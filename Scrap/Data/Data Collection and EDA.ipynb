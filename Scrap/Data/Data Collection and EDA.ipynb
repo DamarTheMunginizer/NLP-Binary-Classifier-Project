{
 "cells": [
  {
   "cell_type": "markdown",
   "id": "3fa0f1ea-5091-455e-811e-ab010ab78987",
   "metadata": {},
   "source": [
    "<img src=\"http://imgur.com/1ZcRyrc.png\" style=\"float: left; margin: 20px; height: 55px\">\n",
    "\n",
    "# **Project 3:** Data Collection"
   ]
  },
  {
   "cell_type": "markdown",
   "id": "6db25639-b92a-4ca4-9717-c03d1d88d1ba",
   "metadata": {},
   "source": [
    "#### Problem Statement\n",
    "\n"
   ]
  },
  {
   "cell_type": "markdown",
   "id": "49db3be4-3069-4ded-9570-518b9350259e",
   "metadata": {},
   "source": [
    "### Classification Accuracy Score\n",
    "\n",
    "The formula for classification accuracy is:\n",
    "## Accuracy = $\\frac{\\text{True Positive} + \\text{True Negative}}{\\text{True Positive} + \\text{True Negative} + \\text{False Positive} + \\text{False Negative}}$"
   ]
  },
  {
   "cell_type": "markdown",
   "id": "cc2e03ba-81f5-4bf7-9832-66f6cb80f155",
   "metadata": {},
   "source": [
    "### Data Collection\n",
    "- Import The Libraries Required To Complete The Problem Statement\n",
    "- Initialize PRAW and Authenicate Reddit API\n",
    "- Read-In the data **(subreddit post you want to compare)**\n",
    "- Set up a function that calls in the number of post required. **( 1000 post)**\n",
    "- View the data (View the first few rows, and see how much data is in your dataset) **(Hint: .head(), and .shape)**\n",
    "- Check the data for duplicates.\n",
    "- Save the dataset as a csv (So that the research is replicable)\n",
    "- Repeat the steps to get more data until I have about 2K for each and then combine and ger rid of duplicates and then work on the actual notebook"
   ]
  },
  {
   "cell_type": "code",
   "execution_count": 2,
   "id": "9391df74-d568-43d1-ac94-7d8099f4caaf",
   "metadata": {},
   "outputs": [
    {
     "data": {
      "text/plain": [
       "True"
      ]
     },
     "execution_count": 2,
     "metadata": {},
     "output_type": "execute_result"
    }
   ],
   "source": [
    "#Imports\n",
    "import praw\n",
    "import os\n",
    "import pandas as pd\n",
    "import requests\n",
    "\n",
    "from sklearn.feature_extraction.text import TfidfVectorizer\n",
    "from sklearn.model_selection import train_test_split\n",
    "from sklearn.linear_model import LogisticRegression\n",
    "from sklearn.metrics import classification_report\n",
    "\n",
    "from bs4 import BeautifulSoup\n",
    "\n",
    "#Needed to read in the varibles that are sensitive.\n",
    "from dotenv import load_dotenv\n",
    "load_dotenv()"
   ]
  },
  {
   "cell_type": "code",
   "execution_count": 3,
   "id": "e39b252f-9662-4c81-8e2a-5bacc7b45ffa",
   "metadata": {},
   "outputs": [],
   "source": [
    "#Initialize PRAW and Authenticate API\n",
    "reddit = praw.Reddit(\n",
    "    client_id = os.getenv('client_id'),\n",
    "    client_secret = os.getenv('client_secret'),\n",
    "    user_agent = 'text_classifier:v1.0 (by DvisionaryS)',\n",
    "    username = 'DvisionaryS',\n",
    "    password = os.getenv('password')\n",
    ")"
   ]
  },
  {
   "cell_type": "code",
   "execution_count": 4,
   "id": "9eb38bc3-37b2-47d3-919c-36ee6d67c9d2",
   "metadata": {},
   "outputs": [],
   "source": [
    "# Assign a variable to the subreddits of your choosing\n",
    "subreddit_1 = reddit.subreddit('dogs')\n",
    "subreddit_2 = reddit.subreddit('personalfinance')"
   ]
  },
  {
   "cell_type": "code",
   "execution_count": 4,
   "id": "13f0bfb3-2bbe-45c4-9cb9-01124df44f66",
   "metadata": {},
   "outputs": [],
   "source": [
    "# Function to find 1000 post for the dataset\n",
    "def fetch_posts(subreddit, n=1000):\n",
    "    posts = []\n",
    "    for post in subreddit.new(limit=n):\n",
    "        posts.append({\n",
    "            'subreddit': post.subreddit,\n",
    "            'title': post.title,\n",
    "            'selftext': post.selftext,\n",
    "            'utc': post.created_utc\n",
    "            \n",
    "        })\n",
    "    return pd.DataFrame(posts)"
   ]
  },
  {
   "cell_type": "code",
   "execution_count": 5,
   "id": "a038763d-ec6d-4513-afaf-db4baea76ed6",
   "metadata": {},
   "outputs": [],
   "source": [
    "#Fetch the post from each subreddits\n",
    "sub_1 = fetch_posts(subreddit_1)\n",
    "sub_2 = fetch_posts(subreddit_2)"
   ]
  },
  {
   "cell_type": "code",
   "execution_count": 6,
   "id": "ab45cc93-1bef-4c22-937f-4043fcc05177",
   "metadata": {},
   "outputs": [
    {
     "data": {
      "text/html": [
       "<div>\n",
       "<style scoped>\n",
       "    .dataframe tbody tr th:only-of-type {\n",
       "        vertical-align: middle;\n",
       "    }\n",
       "\n",
       "    .dataframe tbody tr th {\n",
       "        vertical-align: top;\n",
       "    }\n",
       "\n",
       "    .dataframe thead th {\n",
       "        text-align: right;\n",
       "    }\n",
       "</style>\n",
       "<table border=\"1\" class=\"dataframe\">\n",
       "  <thead>\n",
       "    <tr style=\"text-align: right;\">\n",
       "      <th></th>\n",
       "      <th>subreddit</th>\n",
       "      <th>title</th>\n",
       "      <th>selftext</th>\n",
       "      <th>utc</th>\n",
       "    </tr>\n",
       "  </thead>\n",
       "  <tbody>\n",
       "    <tr>\n",
       "      <th>0</th>\n",
       "      <td>dogs</td>\n",
       "      <td>Miss my doggo</td>\n",
       "      <td>15 years a cute ass lab and shit ton of memori...</td>\n",
       "      <td>1.732391e+09</td>\n",
       "    </tr>\n",
       "    <tr>\n",
       "      <th>1</th>\n",
       "      <td>dogs</td>\n",
       "      <td>Which breed do you think is most ball-obsessed?</td>\n",
       "      <td>Just for fun! Been wondering this lately 🤪\\n\\n...</td>\n",
       "      <td>1.732389e+09</td>\n",
       "    </tr>\n",
       "    <tr>\n",
       "      <th>2</th>\n",
       "      <td>dogs</td>\n",
       "      <td>Hard licky mat</td>\n",
       "      <td>Does anyone know anywhere that does a lucky Ma...</td>\n",
       "      <td>1.732382e+09</td>\n",
       "    </tr>\n",
       "    <tr>\n",
       "      <th>3</th>\n",
       "      <td>dogs</td>\n",
       "      <td>Megathread: Why Does My Dog Do That?</td>\n",
       "      <td>Does your dog turn his head when he hears an o...</td>\n",
       "      <td>1.732381e+09</td>\n",
       "    </tr>\n",
       "    <tr>\n",
       "      <th>4</th>\n",
       "      <td>dogs</td>\n",
       "      <td>Megathread: Aging, Illness, and Euthanasia Sup...</td>\n",
       "      <td>This thread is where to get emotional support ...</td>\n",
       "      <td>1.732378e+09</td>\n",
       "    </tr>\n",
       "  </tbody>\n",
       "</table>\n",
       "</div>"
      ],
      "text/plain": [
       "  subreddit                                              title  \\\n",
       "0      dogs                                      Miss my doggo   \n",
       "1      dogs    Which breed do you think is most ball-obsessed?   \n",
       "2      dogs                                     Hard licky mat   \n",
       "3      dogs               Megathread: Why Does My Dog Do That?   \n",
       "4      dogs  Megathread: Aging, Illness, and Euthanasia Sup...   \n",
       "\n",
       "                                            selftext           utc  \n",
       "0  15 years a cute ass lab and shit ton of memori...  1.732391e+09  \n",
       "1  Just for fun! Been wondering this lately 🤪\\n\\n...  1.732389e+09  \n",
       "2  Does anyone know anywhere that does a lucky Ma...  1.732382e+09  \n",
       "3  Does your dog turn his head when he hears an o...  1.732381e+09  \n",
       "4  This thread is where to get emotional support ...  1.732378e+09  "
      ]
     },
     "execution_count": 6,
     "metadata": {},
     "output_type": "execute_result"
    }
   ],
   "source": [
    "# Forth fetch to combine with 1st taking out the ones that were repeats\n",
    "sub_1.head()"
   ]
  },
  {
   "cell_type": "code",
   "execution_count": 7,
   "id": "3ef20e6f-c032-46a1-a736-17730253cdb0",
   "metadata": {},
   "outputs": [
    {
     "data": {
      "text/plain": [
       "(948, 4)"
      ]
     },
     "execution_count": 7,
     "metadata": {},
     "output_type": "execute_result"
    }
   ],
   "source": [
    "sub_1.shape"
   ]
  },
  {
   "cell_type": "code",
   "execution_count": 8,
   "id": "001260bc-8b50-4078-a061-5d7710daf7c4",
   "metadata": {},
   "outputs": [
    {
     "data": {
      "text/plain": [
       "utc\n",
       "1.732391e+09    1\n",
       "1.728407e+09    1\n",
       "1.728480e+09    1\n",
       "1.728476e+09    1\n",
       "1.728470e+09    1\n",
       "               ..\n",
       "1.730309e+09    1\n",
       "1.730301e+09    1\n",
       "1.730295e+09    1\n",
       "1.730315e+09    1\n",
       "1.726512e+09    1\n",
       "Name: count, Length: 948, dtype: int64"
      ]
     },
     "execution_count": 8,
     "metadata": {},
     "output_type": "execute_result"
    }
   ],
   "source": [
    "sub_1['utc'].value_counts()"
   ]
  },
  {
   "cell_type": "code",
   "execution_count": 9,
   "id": "4c8031ec-69bc-410d-81f8-95d7390474dd",
   "metadata": {},
   "outputs": [
    {
     "data": {
      "text/html": [
       "<div>\n",
       "<style scoped>\n",
       "    .dataframe tbody tr th:only-of-type {\n",
       "        vertical-align: middle;\n",
       "    }\n",
       "\n",
       "    .dataframe tbody tr th {\n",
       "        vertical-align: top;\n",
       "    }\n",
       "\n",
       "    .dataframe thead th {\n",
       "        text-align: right;\n",
       "    }\n",
       "</style>\n",
       "<table border=\"1\" class=\"dataframe\">\n",
       "  <thead>\n",
       "    <tr style=\"text-align: right;\">\n",
       "      <th></th>\n",
       "      <th>subreddit</th>\n",
       "      <th>title</th>\n",
       "      <th>selftext</th>\n",
       "      <th>utc</th>\n",
       "    </tr>\n",
       "  </thead>\n",
       "  <tbody>\n",
       "    <tr>\n",
       "      <th>0</th>\n",
       "      <td>personalfinance</td>\n",
       "      <td>How do you cope with losing money</td>\n",
       "      <td>Long story short, I gambled and lost 90% of my...</td>\n",
       "      <td>1.732405e+09</td>\n",
       "    </tr>\n",
       "    <tr>\n",
       "      <th>1</th>\n",
       "      <td>personalfinance</td>\n",
       "      <td>Are Black Friday Deals Worth the Wait?</td>\n",
       "      <td>Hi everyone, \\n\\nI am a college student who is...</td>\n",
       "      <td>1.732404e+09</td>\n",
       "    </tr>\n",
       "    <tr>\n",
       "      <th>2</th>\n",
       "      <td>personalfinance</td>\n",
       "      <td>HSA Contribution limits 2 income household</td>\n",
       "      <td>So, up until this year my family (spouse + 2 k...</td>\n",
       "      <td>1.732404e+09</td>\n",
       "    </tr>\n",
       "    <tr>\n",
       "      <th>3</th>\n",
       "      <td>personalfinance</td>\n",
       "      <td>Paying lump sum payment on auto loan to reduce...</td>\n",
       "      <td>Outline of situation\\n\\n- Purchased new vehicl...</td>\n",
       "      <td>1.732404e+09</td>\n",
       "    </tr>\n",
       "    <tr>\n",
       "      <th>4</th>\n",
       "      <td>personalfinance</td>\n",
       "      <td>How to Handle Large Daycare Assistance Gift</td>\n",
       "      <td>My wife and I are expecting our first child in...</td>\n",
       "      <td>1.732404e+09</td>\n",
       "    </tr>\n",
       "  </tbody>\n",
       "</table>\n",
       "</div>"
      ],
      "text/plain": [
       "         subreddit                                              title  \\\n",
       "0  personalfinance                  How do you cope with losing money   \n",
       "1  personalfinance             Are Black Friday Deals Worth the Wait?   \n",
       "2  personalfinance         HSA Contribution limits 2 income household   \n",
       "3  personalfinance  Paying lump sum payment on auto loan to reduce...   \n",
       "4  personalfinance        How to Handle Large Daycare Assistance Gift   \n",
       "\n",
       "                                            selftext           utc  \n",
       "0  Long story short, I gambled and lost 90% of my...  1.732405e+09  \n",
       "1  Hi everyone, \\n\\nI am a college student who is...  1.732404e+09  \n",
       "2  So, up until this year my family (spouse + 2 k...  1.732404e+09  \n",
       "3  Outline of situation\\n\\n- Purchased new vehicl...  1.732404e+09  \n",
       "4  My wife and I are expecting our first child in...  1.732404e+09  "
      ]
     },
     "execution_count": 9,
     "metadata": {},
     "output_type": "execute_result"
    }
   ],
   "source": [
    "sub_2.head()"
   ]
  },
  {
   "cell_type": "code",
   "execution_count": 10,
   "id": "b2aaab66-c8d3-4933-b27c-b3d3b83cda59",
   "metadata": {},
   "outputs": [
    {
     "data": {
      "text/plain": [
       "(979, 4)"
      ]
     },
     "execution_count": 10,
     "metadata": {},
     "output_type": "execute_result"
    }
   ],
   "source": [
    "sub_2.shape"
   ]
  },
  {
   "cell_type": "code",
   "execution_count": 11,
   "id": "d824f78d-9680-4fb3-bfe7-4bbaee4edc95",
   "metadata": {},
   "outputs": [
    {
     "data": {
      "text/plain": [
       "utc\n",
       "1.732221e+09    2\n",
       "1.732090e+09    1\n",
       "1.732105e+09    1\n",
       "1.732104e+09    1\n",
       "1.732101e+09    1\n",
       "               ..\n",
       "1.732237e+09    1\n",
       "1.732236e+09    1\n",
       "1.732236e+09    1\n",
       "1.732235e+09    1\n",
       "1.731950e+09    1\n",
       "Name: count, Length: 978, dtype: int64"
      ]
     },
     "execution_count": 11,
     "metadata": {},
     "output_type": "execute_result"
    }
   ],
   "source": [
    "sub_2['utc'].value_counts()"
   ]
  },
  {
   "cell_type": "code",
   "execution_count": 12,
   "id": "01fe1df7-f4fc-4aed-8233-6f16ebb4bf02",
   "metadata": {},
   "outputs": [],
   "source": [
    "sub_2 = sub_2.drop_duplicates(subset=['utc'])"
   ]
  },
  {
   "cell_type": "code",
   "execution_count": 13,
   "id": "ff7e99a5-6741-4253-893e-34a86f39bf8c",
   "metadata": {},
   "outputs": [
    {
     "data": {
      "text/plain": [
       "utc\n",
       "1.732405e+09    1\n",
       "1.732105e+09    1\n",
       "1.732105e+09    1\n",
       "1.732104e+09    1\n",
       "1.732101e+09    1\n",
       "               ..\n",
       "1.732237e+09    1\n",
       "1.732236e+09    1\n",
       "1.732236e+09    1\n",
       "1.732235e+09    1\n",
       "1.731950e+09    1\n",
       "Name: count, Length: 978, dtype: int64"
      ]
     },
     "execution_count": 13,
     "metadata": {},
     "output_type": "execute_result"
    }
   ],
   "source": [
    "sub_2['utc'].value_counts()"
   ]
  },
  {
   "cell_type": "code",
   "execution_count": 14,
   "id": "5c2e965f-df05-4960-86dc-7ba28cfc9f32",
   "metadata": {},
   "outputs": [],
   "source": [
    "sub_1.to_csv('data/subreddit_1_dogposts3.csv', index=False)\n",
    "sub_2.to_csv('data/subreddit_2_financeposts3.csv', index=False)"
   ]
  },
  {
   "cell_type": "code",
   "execution_count": null,
   "id": "a424a817-e364-414e-9a6e-ca341c3e65be",
   "metadata": {},
   "outputs": [],
   "source": []
  },
  {
   "cell_type": "code",
   "execution_count": 6,
   "id": "32cfbdf5-e72c-4148-9f9d-0f8f3f5a91b7",
   "metadata": {},
   "outputs": [
    {
     "data": {
      "text/html": [
       "<div>\n",
       "<style scoped>\n",
       "    .dataframe tbody tr th:only-of-type {\n",
       "        vertical-align: middle;\n",
       "    }\n",
       "\n",
       "    .dataframe tbody tr th {\n",
       "        vertical-align: top;\n",
       "    }\n",
       "\n",
       "    .dataframe thead th {\n",
       "        text-align: right;\n",
       "    }\n",
       "</style>\n",
       "<table border=\"1\" class=\"dataframe\">\n",
       "  <thead>\n",
       "    <tr style=\"text-align: right;\">\n",
       "      <th></th>\n",
       "      <th>subreddit</th>\n",
       "      <th>title</th>\n",
       "      <th>selftext</th>\n",
       "      <th>utc</th>\n",
       "    </tr>\n",
       "  </thead>\n",
       "  <tbody>\n",
       "    <tr>\n",
       "      <th>0</th>\n",
       "      <td>dogs</td>\n",
       "      <td>Breed Suggestions</td>\n",
       "      <td>\\*\\*Introduction\\*\\*  \\n  \\n1)Will this be you...</td>\n",
       "      <td>1.732304e+09</td>\n",
       "    </tr>\n",
       "    <tr>\n",
       "      <th>1</th>\n",
       "      <td>dogs</td>\n",
       "      <td>Best donut dog bed from Amazon?</td>\n",
       "      <td>Is there a donut dog bed from Amazon worth get...</td>\n",
       "      <td>1.732297e+09</td>\n",
       "    </tr>\n",
       "    <tr>\n",
       "      <th>2</th>\n",
       "      <td>dogs</td>\n",
       "      <td>What dog would be good for an active lifestyle...</td>\n",
       "      <td>\\*\\*Introduction\\*\\*\\n\\n**1) Will this be your...</td>\n",
       "      <td>1.732299e+09</td>\n",
       "    </tr>\n",
       "    <tr>\n",
       "      <th>3</th>\n",
       "      <td>dogs</td>\n",
       "      <td>Looking for new and creative enrichment ideas</td>\n",
       "      <td>I am constantly trying to find new enrichment ...</td>\n",
       "      <td>1.732298e+09</td>\n",
       "    </tr>\n",
       "    <tr>\n",
       "      <th>4</th>\n",
       "      <td>dogs</td>\n",
       "      <td>How to stop my dog from biting my cat?</td>\n",
       "      <td>My dog has a thing for biting at my cat consta...</td>\n",
       "      <td>1.732296e+09</td>\n",
       "    </tr>\n",
       "  </tbody>\n",
       "</table>\n",
       "</div>"
      ],
      "text/plain": [
       "  subreddit                                              title  \\\n",
       "0      dogs                                  Breed Suggestions   \n",
       "1      dogs                    Best donut dog bed from Amazon?   \n",
       "2      dogs  What dog would be good for an active lifestyle...   \n",
       "3      dogs      Looking for new and creative enrichment ideas   \n",
       "4      dogs            How to stop my dog from biting my cat?    \n",
       "\n",
       "                                            selftext           utc  \n",
       "0  \\*\\*Introduction\\*\\*  \\n  \\n1)Will this be you...  1.732304e+09  \n",
       "1  Is there a donut dog bed from Amazon worth get...  1.732297e+09  \n",
       "2  \\*\\*Introduction\\*\\*\\n\\n**1) Will this be your...  1.732299e+09  \n",
       "3  I am constantly trying to find new enrichment ...  1.732298e+09  \n",
       "4  My dog has a thing for biting at my cat consta...  1.732296e+09  "
      ]
     },
     "execution_count": 6,
     "metadata": {},
     "output_type": "execute_result"
    }
   ],
   "source": [
    "#Third fetch to combine with 1st taking out the ones that were repeats\n",
    "sub_1.head()"
   ]
  },
  {
   "cell_type": "code",
   "execution_count": 7,
   "id": "252288fd-a251-415a-bb1f-c21c6d384b81",
   "metadata": {},
   "outputs": [
    {
     "data": {
      "text/plain": [
       "(948, 4)"
      ]
     },
     "execution_count": 7,
     "metadata": {},
     "output_type": "execute_result"
    }
   ],
   "source": [
    "sub_1.shape"
   ]
  },
  {
   "cell_type": "code",
   "execution_count": 8,
   "id": "b4821745-a6de-405b-af72-47daceb703e0",
   "metadata": {},
   "outputs": [
    {
     "data": {
      "text/plain": [
       "utc\n",
       "1.732304e+09    1\n",
       "1.728390e+09    1\n",
       "1.728418e+09    1\n",
       "1.728416e+09    1\n",
       "1.728416e+09    1\n",
       "               ..\n",
       "1.730315e+09    1\n",
       "1.730309e+09    1\n",
       "1.730304e+09    1\n",
       "1.730301e+09    1\n",
       "1.726501e+09    1\n",
       "Name: count, Length: 948, dtype: int64"
      ]
     },
     "execution_count": 8,
     "metadata": {},
     "output_type": "execute_result"
    }
   ],
   "source": [
    "sub_1['utc'].value_counts()"
   ]
  },
  {
   "cell_type": "code",
   "execution_count": 9,
   "id": "d78d676d-651a-41ea-8bb1-ffd449126e95",
   "metadata": {},
   "outputs": [
    {
     "data": {
      "text/html": [
       "<div>\n",
       "<style scoped>\n",
       "    .dataframe tbody tr th:only-of-type {\n",
       "        vertical-align: middle;\n",
       "    }\n",
       "\n",
       "    .dataframe tbody tr th {\n",
       "        vertical-align: top;\n",
       "    }\n",
       "\n",
       "    .dataframe thead th {\n",
       "        text-align: right;\n",
       "    }\n",
       "</style>\n",
       "<table border=\"1\" class=\"dataframe\">\n",
       "  <thead>\n",
       "    <tr style=\"text-align: right;\">\n",
       "      <th></th>\n",
       "      <th>subreddit</th>\n",
       "      <th>title</th>\n",
       "      <th>selftext</th>\n",
       "      <th>utc</th>\n",
       "    </tr>\n",
       "  </thead>\n",
       "  <tbody>\n",
       "    <tr>\n",
       "      <th>0</th>\n",
       "      <td>personalfinance</td>\n",
       "      <td>Need easy access to a personal loan to pay off...</td>\n",
       "      <td>I want to get access to a personal loan to pay...</td>\n",
       "      <td>1.732305e+09</td>\n",
       "    </tr>\n",
       "    <tr>\n",
       "      <th>1</th>\n",
       "      <td>personalfinance</td>\n",
       "      <td>Can you remove advisor on a 529 plan?</td>\n",
       "      <td>I have a 529 plan for my child. It was set up ...</td>\n",
       "      <td>1.732304e+09</td>\n",
       "    </tr>\n",
       "    <tr>\n",
       "      <th>2</th>\n",
       "      <td>personalfinance</td>\n",
       "      <td>Long-term inflation versus mortgage interest c...</td>\n",
       "      <td>Is there a handy calculator out there that hel...</td>\n",
       "      <td>1.732304e+09</td>\n",
       "    </tr>\n",
       "    <tr>\n",
       "      <th>3</th>\n",
       "      <td>personalfinance</td>\n",
       "      <td>Pay for car cash or let it ride in the market?</td>\n",
       "      <td>Looking for advice since I've asked around and...</td>\n",
       "      <td>1.732304e+09</td>\n",
       "    </tr>\n",
       "    <tr>\n",
       "      <th>4</th>\n",
       "      <td>personalfinance</td>\n",
       "      <td>Scammed by a locksmith?</td>\n",
       "      <td>I accidentally lost my key walking my dog and ...</td>\n",
       "      <td>1.732304e+09</td>\n",
       "    </tr>\n",
       "  </tbody>\n",
       "</table>\n",
       "</div>"
      ],
      "text/plain": [
       "         subreddit                                              title  \\\n",
       "0  personalfinance  Need easy access to a personal loan to pay off...   \n",
       "1  personalfinance              Can you remove advisor on a 529 plan?   \n",
       "2  personalfinance  Long-term inflation versus mortgage interest c...   \n",
       "3  personalfinance     Pay for car cash or let it ride in the market?   \n",
       "4  personalfinance                           Scammed by a locksmith?    \n",
       "\n",
       "                                            selftext           utc  \n",
       "0  I want to get access to a personal loan to pay...  1.732305e+09  \n",
       "1  I have a 529 plan for my child. It was set up ...  1.732304e+09  \n",
       "2  Is there a handy calculator out there that hel...  1.732304e+09  \n",
       "3  Looking for advice since I've asked around and...  1.732304e+09  \n",
       "4  I accidentally lost my key walking my dog and ...  1.732304e+09  "
      ]
     },
     "execution_count": 9,
     "metadata": {},
     "output_type": "execute_result"
    }
   ],
   "source": [
    "sub_2.head()"
   ]
  },
  {
   "cell_type": "code",
   "execution_count": 10,
   "id": "588a869e-a9c4-424b-8148-b003ff24832f",
   "metadata": {},
   "outputs": [
    {
     "data": {
      "text/plain": [
       "(981, 4)"
      ]
     },
     "execution_count": 10,
     "metadata": {},
     "output_type": "execute_result"
    }
   ],
   "source": [
    "sub_2.shape"
   ]
  },
  {
   "cell_type": "code",
   "execution_count": 11,
   "id": "bba5d90e-0ed1-4eab-a0e6-2c4d6b0b0c24",
   "metadata": {},
   "outputs": [
    {
     "data": {
      "text/plain": [
       "utc\n",
       "1.731947e+09    2\n",
       "1.732221e+09    2\n",
       "1.732011e+09    1\n",
       "1.732025e+09    1\n",
       "1.732024e+09    1\n",
       "               ..\n",
       "1.732154e+09    1\n",
       "1.732153e+09    1\n",
       "1.732153e+09    1\n",
       "1.732152e+09    1\n",
       "1.731783e+09    1\n",
       "Name: count, Length: 979, dtype: int64"
      ]
     },
     "execution_count": 11,
     "metadata": {},
     "output_type": "execute_result"
    }
   ],
   "source": [
    "sub_2['utc'].value_counts()"
   ]
  },
  {
   "cell_type": "code",
   "execution_count": 12,
   "id": "d608ca90-f03c-4660-8d14-2fd5b831e309",
   "metadata": {},
   "outputs": [],
   "source": [
    "sub_2 = sub_2.drop_duplicates(subset=['utc'])"
   ]
  },
  {
   "cell_type": "code",
   "execution_count": 13,
   "id": "424f39a7-3846-4e28-bbbf-6af05a578ab2",
   "metadata": {},
   "outputs": [
    {
     "data": {
      "text/plain": [
       "utc\n",
       "1.732305e+09    1\n",
       "1.732026e+09    1\n",
       "1.732025e+09    1\n",
       "1.732024e+09    1\n",
       "1.732023e+09    1\n",
       "               ..\n",
       "1.732156e+09    1\n",
       "1.732154e+09    1\n",
       "1.732153e+09    1\n",
       "1.732153e+09    1\n",
       "1.731783e+09    1\n",
       "Name: count, Length: 979, dtype: int64"
      ]
     },
     "execution_count": 13,
     "metadata": {},
     "output_type": "execute_result"
    }
   ],
   "source": [
    "sub_2['utc'].value_counts()"
   ]
  },
  {
   "cell_type": "code",
   "execution_count": 14,
   "id": "fd3784a0-22a6-46de-a4b4-9c538be13599",
   "metadata": {},
   "outputs": [],
   "source": [
    "sub_1.to_csv('data/subreddit_1_dogposts2.csv', index=False)\n",
    "sub_2.to_csv('data/subreddit_2_financeposts2.csv', index=False)"
   ]
  },
  {
   "cell_type": "code",
   "execution_count": null,
   "id": "cb8b30ac-568f-4c83-8959-fbce4a8db549",
   "metadata": {},
   "outputs": [],
   "source": []
  },
  {
   "cell_type": "code",
   "execution_count": null,
   "id": "586d9b41-a494-4969-88e2-03d6a792209f",
   "metadata": {},
   "outputs": [],
   "source": []
  },
  {
   "cell_type": "code",
   "execution_count": 12,
   "id": "a6bd3579-8a48-4bfd-b0b9-e7c07e14d01f",
   "metadata": {},
   "outputs": [
    {
     "data": {
      "text/html": [
       "<div>\n",
       "<style scoped>\n",
       "    .dataframe tbody tr th:only-of-type {\n",
       "        vertical-align: middle;\n",
       "    }\n",
       "\n",
       "    .dataframe tbody tr th {\n",
       "        vertical-align: top;\n",
       "    }\n",
       "\n",
       "    .dataframe thead th {\n",
       "        text-align: right;\n",
       "    }\n",
       "</style>\n",
       "<table border=\"1\" class=\"dataframe\">\n",
       "  <thead>\n",
       "    <tr style=\"text-align: right;\">\n",
       "      <th></th>\n",
       "      <th>subreddit</th>\n",
       "      <th>title</th>\n",
       "      <th>selftext</th>\n",
       "      <th>utc</th>\n",
       "    </tr>\n",
       "  </thead>\n",
       "  <tbody>\n",
       "    <tr>\n",
       "      <th>0</th>\n",
       "      <td>dogs</td>\n",
       "      <td>[breed] recommendation for a lifelong cat lady</td>\n",
       "      <td>I have been a cat lady my whole life. When I m...</td>\n",
       "      <td>1.732161e+09</td>\n",
       "    </tr>\n",
       "    <tr>\n",
       "      <th>1</th>\n",
       "      <td>dogs</td>\n",
       "      <td>Cheap stocking stuffers?</td>\n",
       "      <td>Hi, so for Christmas I'm wanting to get my dog...</td>\n",
       "      <td>1.732200e+09</td>\n",
       "    </tr>\n",
       "    <tr>\n",
       "      <th>2</th>\n",
       "      <td>dogs</td>\n",
       "      <td>What dog should I have?</td>\n",
       "      <td>Hi! I’m considering getting a dog, but I need ...</td>\n",
       "      <td>1.732194e+09</td>\n",
       "    </tr>\n",
       "    <tr>\n",
       "      <th>3</th>\n",
       "      <td>dogs</td>\n",
       "      <td>Can I get a dog?</td>\n",
       "      <td>1.Will this be your first dog? If not, what ex...</td>\n",
       "      <td>1.732190e+09</td>\n",
       "    </tr>\n",
       "    <tr>\n",
       "      <th>4</th>\n",
       "      <td>dogs</td>\n",
       "      <td>18 month old puppy barks at window for attenti...</td>\n",
       "      <td>He won't stop barking at the window at bed tim...</td>\n",
       "      <td>1.732184e+09</td>\n",
       "    </tr>\n",
       "  </tbody>\n",
       "</table>\n",
       "</div>"
      ],
      "text/plain": [
       "  subreddit                                              title  \\\n",
       "0      dogs    [breed] recommendation for a lifelong cat lady    \n",
       "1      dogs                           Cheap stocking stuffers?   \n",
       "2      dogs                            What dog should I have?   \n",
       "3      dogs                                   Can I get a dog?   \n",
       "4      dogs  18 month old puppy barks at window for attenti...   \n",
       "\n",
       "                                            selftext           utc  \n",
       "0  I have been a cat lady my whole life. When I m...  1.732161e+09  \n",
       "1  Hi, so for Christmas I'm wanting to get my dog...  1.732200e+09  \n",
       "2  Hi! I’m considering getting a dog, but I need ...  1.732194e+09  \n",
       "3  1.Will this be your first dog? If not, what ex...  1.732190e+09  \n",
       "4  He won't stop barking at the window at bed tim...  1.732184e+09  "
      ]
     },
     "execution_count": 12,
     "metadata": {},
     "output_type": "execute_result"
    }
   ],
   "source": [
    "#Second fetch to combine with 1st taking out the ones that were repeats\n",
    "sub_1.head()"
   ]
  },
  {
   "cell_type": "code",
   "execution_count": 14,
   "id": "968f7443-acb0-45a0-b4df-24e7de02d077",
   "metadata": {},
   "outputs": [
    {
     "data": {
      "text/plain": [
       "(949, 4)"
      ]
     },
     "execution_count": 14,
     "metadata": {},
     "output_type": "execute_result"
    }
   ],
   "source": [
    "sub_1.shape"
   ]
  },
  {
   "cell_type": "code",
   "execution_count": 17,
   "id": "b46033f5-958e-4561-a031-72e7929bd76a",
   "metadata": {},
   "outputs": [
    {
     "data": {
      "text/plain": [
       "utc\n",
       "1.732161e+09    1\n",
       "1.728321e+09    1\n",
       "1.728350e+09    1\n",
       "1.728346e+09    1\n",
       "1.728346e+09    1\n",
       "               ..\n",
       "1.730261e+09    1\n",
       "1.730262e+09    1\n",
       "1.730250e+09    1\n",
       "1.730243e+09    1\n",
       "1.726465e+09    1\n",
       "Name: count, Length: 949, dtype: int64"
      ]
     },
     "execution_count": 17,
     "metadata": {},
     "output_type": "execute_result"
    }
   ],
   "source": [
    "sub_1['utc'].value_counts()"
   ]
  },
  {
   "cell_type": "code",
   "execution_count": 18,
   "id": "7364cfc2-8d47-4399-b571-91d8e5388ab4",
   "metadata": {},
   "outputs": [
    {
     "data": {
      "text/html": [
       "<div>\n",
       "<style scoped>\n",
       "    .dataframe tbody tr th:only-of-type {\n",
       "        vertical-align: middle;\n",
       "    }\n",
       "\n",
       "    .dataframe tbody tr th {\n",
       "        vertical-align: top;\n",
       "    }\n",
       "\n",
       "    .dataframe thead th {\n",
       "        text-align: right;\n",
       "    }\n",
       "</style>\n",
       "<table border=\"1\" class=\"dataframe\">\n",
       "  <thead>\n",
       "    <tr style=\"text-align: right;\">\n",
       "      <th></th>\n",
       "      <th>subreddit</th>\n",
       "      <th>title</th>\n",
       "      <th>selftext</th>\n",
       "      <th>utc</th>\n",
       "    </tr>\n",
       "  </thead>\n",
       "  <tbody>\n",
       "    <tr>\n",
       "      <th>0</th>\n",
       "      <td>personalfinance</td>\n",
       "      <td>Roth IRA contributions to 403(b)</td>\n",
       "      <td>My organizations open enrollment period just o...</td>\n",
       "      <td>1.732200e+09</td>\n",
       "    </tr>\n",
       "    <tr>\n",
       "      <th>1</th>\n",
       "      <td>personalfinance</td>\n",
       "      <td>Locating IRA or 401k of Estate</td>\n",
       "      <td>My wife has become the executor of a deceased ...</td>\n",
       "      <td>1.732199e+09</td>\n",
       "    </tr>\n",
       "    <tr>\n",
       "      <th>2</th>\n",
       "      <td>personalfinance</td>\n",
       "      <td>Should I put my savings in an IRA?</td>\n",
       "      <td>Hi! I am new to personal finance and am trying...</td>\n",
       "      <td>1.732199e+09</td>\n",
       "    </tr>\n",
       "    <tr>\n",
       "      <th>3</th>\n",
       "      <td>personalfinance</td>\n",
       "      <td>Inherited mutual funds. Thinking of selling an...</td>\n",
       "      <td>Hi all - \\nHopefully an appropriate question. ...</td>\n",
       "      <td>1.732199e+09</td>\n",
       "    </tr>\n",
       "    <tr>\n",
       "      <th>4</th>\n",
       "      <td>personalfinance</td>\n",
       "      <td>Double-checking my understanding of retirement...</td>\n",
       "      <td>I have a 401k through work with a 4% employer ...</td>\n",
       "      <td>1.732199e+09</td>\n",
       "    </tr>\n",
       "  </tbody>\n",
       "</table>\n",
       "</div>"
      ],
      "text/plain": [
       "         subreddit                                              title  \\\n",
       "0  personalfinance                   Roth IRA contributions to 403(b)   \n",
       "1  personalfinance                     Locating IRA or 401k of Estate   \n",
       "2  personalfinance                 Should I put my savings in an IRA?   \n",
       "3  personalfinance  Inherited mutual funds. Thinking of selling an...   \n",
       "4  personalfinance  Double-checking my understanding of retirement...   \n",
       "\n",
       "                                            selftext           utc  \n",
       "0  My organizations open enrollment period just o...  1.732200e+09  \n",
       "1  My wife has become the executor of a deceased ...  1.732199e+09  \n",
       "2  Hi! I am new to personal finance and am trying...  1.732199e+09  \n",
       "3  Hi all - \\nHopefully an appropriate question. ...  1.732199e+09  \n",
       "4  I have a 401k through work with a 4% employer ...  1.732199e+09  "
      ]
     },
     "execution_count": 18,
     "metadata": {},
     "output_type": "execute_result"
    }
   ],
   "source": [
    "sub_2.head()"
   ]
  },
  {
   "cell_type": "code",
   "execution_count": 19,
   "id": "3de844e2-c8fa-4de8-b5ea-737ccbdd4ea9",
   "metadata": {},
   "outputs": [
    {
     "data": {
      "text/plain": [
       "(981, 4)"
      ]
     },
     "execution_count": 19,
     "metadata": {},
     "output_type": "execute_result"
    }
   ],
   "source": [
    "sub_2.shape"
   ]
  },
  {
   "cell_type": "code",
   "execution_count": 21,
   "id": "c9da167e-f60a-4cc1-a8a6-93d0b11d932c",
   "metadata": {},
   "outputs": [
    {
     "data": {
      "text/plain": [
       "utc\n",
       "1.731947e+09    2\n",
       "1.731691e+09    2\n",
       "1.731862e+09    1\n",
       "1.731868e+09    1\n",
       "1.731878e+09    1\n",
       "               ..\n",
       "1.732028e+09    1\n",
       "1.732035e+09    1\n",
       "1.732035e+09    1\n",
       "1.732034e+09    1\n",
       "1.731684e+09    1\n",
       "Name: count, Length: 979, dtype: int64"
      ]
     },
     "execution_count": 21,
     "metadata": {},
     "output_type": "execute_result"
    }
   ],
   "source": [
    "sub_2['utc'].value_counts()"
   ]
  },
  {
   "cell_type": "code",
   "execution_count": 22,
   "id": "f5eff715-7bb0-42c1-b8b6-ea2ce491b60a",
   "metadata": {},
   "outputs": [],
   "source": [
    "sub_2 = sub_2.drop_duplicates(subset=['utc'])"
   ]
  },
  {
   "cell_type": "code",
   "execution_count": 24,
   "id": "a0a6bee5-2937-4a2d-8cdf-2eac01d42fdc",
   "metadata": {},
   "outputs": [
    {
     "data": {
      "text/plain": [
       "utc\n",
       "1.732200e+09    1\n",
       "1.731878e+09    1\n",
       "1.731878e+09    1\n",
       "1.731876e+09    1\n",
       "1.731875e+09    1\n",
       "               ..\n",
       "1.732028e+09    1\n",
       "1.732035e+09    1\n",
       "1.732035e+09    1\n",
       "1.732034e+09    1\n",
       "1.731684e+09    1\n",
       "Name: count, Length: 979, dtype: int64"
      ]
     },
     "execution_count": 24,
     "metadata": {},
     "output_type": "execute_result"
    }
   ],
   "source": [
    "sub_2['utc'].value_counts()"
   ]
  },
  {
   "cell_type": "code",
   "execution_count": 25,
   "id": "98e2c2d6-3ced-4ec1-8f7d-9f2311830a7d",
   "metadata": {},
   "outputs": [],
   "source": [
    "sub_1.to_csv('data/subreddit_1_dogposts1.csv', index=False)\n",
    "sub_2.to_csv('data/subreddit_2_financeposts1.csv', index=False)"
   ]
  },
  {
   "cell_type": "code",
   "execution_count": null,
   "id": "948fb213-ca21-40c7-a03b-a45c72c53799",
   "metadata": {},
   "outputs": [],
   "source": []
  },
  {
   "cell_type": "code",
   "execution_count": null,
   "id": "1f00e9bd-5168-422e-8f38-55027ac32969",
   "metadata": {},
   "outputs": [],
   "source": []
  },
  {
   "cell_type": "code",
   "execution_count": null,
   "id": "713cc91c-581f-4098-9d5d-177216a28d59",
   "metadata": {},
   "outputs": [],
   "source": []
  },
  {
   "cell_type": "code",
   "execution_count": 29,
   "id": "4f08b0bf-5a25-480f-abd7-183b582e4e81",
   "metadata": {},
   "outputs": [
    {
     "data": {
      "text/html": [
       "<div>\n",
       "<style scoped>\n",
       "    .dataframe tbody tr th:only-of-type {\n",
       "        vertical-align: middle;\n",
       "    }\n",
       "\n",
       "    .dataframe tbody tr th {\n",
       "        vertical-align: top;\n",
       "    }\n",
       "\n",
       "    .dataframe thead th {\n",
       "        text-align: right;\n",
       "    }\n",
       "</style>\n",
       "<table border=\"1\" class=\"dataframe\">\n",
       "  <thead>\n",
       "    <tr style=\"text-align: right;\">\n",
       "      <th></th>\n",
       "      <th>subreddit</th>\n",
       "      <th>title</th>\n",
       "      <th>selftext</th>\n",
       "      <th>utc</th>\n",
       "    </tr>\n",
       "  </thead>\n",
       "  <tbody>\n",
       "    <tr>\n",
       "      <th>0</th>\n",
       "      <td>dogs</td>\n",
       "      <td>Best pet friendly couches</td>\n",
       "      <td>I am looking to replace my couches and looking...</td>\n",
       "      <td>1.732064e+09</td>\n",
       "    </tr>\n",
       "    <tr>\n",
       "      <th>1</th>\n",
       "      <td>dogs</td>\n",
       "      <td>Hello beautiful dog owners!</td>\n",
       "      <td>I got offered a Pembroke puppy. She’s lower p...</td>\n",
       "      <td>1.732061e+09</td>\n",
       "    </tr>\n",
       "    <tr>\n",
       "      <th>2</th>\n",
       "      <td>dogs</td>\n",
       "      <td>best dog breed for a nervous cat?</td>\n",
       "      <td>hi! hope im doing this right lol i dont use re...</td>\n",
       "      <td>1.732055e+09</td>\n",
       "    </tr>\n",
       "    <tr>\n",
       "      <th>3</th>\n",
       "      <td>dogs</td>\n",
       "      <td>Can I train my dog to like soft toys without r...</td>\n",
       "      <td>I have the sweetest 5 y/o Newfie with quite a ...</td>\n",
       "      <td>1.732039e+09</td>\n",
       "    </tr>\n",
       "    <tr>\n",
       "      <th>4</th>\n",
       "      <td>dogs</td>\n",
       "      <td>Megathread: Why Does My Dog Do That?</td>\n",
       "      <td>Does your dog turn his head when he hears an o...</td>\n",
       "      <td>1.732036e+09</td>\n",
       "    </tr>\n",
       "  </tbody>\n",
       "</table>\n",
       "</div>"
      ],
      "text/plain": [
       "  subreddit                                              title  \\\n",
       "0      dogs                          Best pet friendly couches   \n",
       "1      dogs                        Hello beautiful dog owners!   \n",
       "2      dogs                  best dog breed for a nervous cat?   \n",
       "3      dogs  Can I train my dog to like soft toys without r...   \n",
       "4      dogs               Megathread: Why Does My Dog Do That?   \n",
       "\n",
       "                                            selftext           utc  \n",
       "0  I am looking to replace my couches and looking...  1.732064e+09  \n",
       "1   I got offered a Pembroke puppy. She’s lower p...  1.732061e+09  \n",
       "2  hi! hope im doing this right lol i dont use re...  1.732055e+09  \n",
       "3  I have the sweetest 5 y/o Newfie with quite a ...  1.732039e+09  \n",
       "4  Does your dog turn his head when he hears an o...  1.732036e+09  "
      ]
     },
     "execution_count": 29,
     "metadata": {},
     "output_type": "execute_result"
    }
   ],
   "source": [
    "#View the data\n",
    "#Saved this data as a csv with my first pulls\n",
    "sub_1.head()"
   ]
  },
  {
   "cell_type": "code",
   "execution_count": 30,
   "id": "f75f9a1f-7431-45d2-b7d9-b60efe4aac4e",
   "metadata": {},
   "outputs": [
    {
     "data": {
      "text/plain": [
       "(949, 4)"
      ]
     },
     "execution_count": 30,
     "metadata": {},
     "output_type": "execute_result"
    }
   ],
   "source": [
    "#View the amount of data\n",
    "sub_1.shape"
   ]
  },
  {
   "cell_type": "code",
   "execution_count": 34,
   "id": "24fd350d-f52b-4391-a56a-cedaec1febc8",
   "metadata": {},
   "outputs": [
    {
     "data": {
      "text/plain": [
       "utc\n",
       "1.732064e+09    1\n",
       "1.728277e+09    1\n",
       "1.728311e+09    1\n",
       "1.728302e+09    1\n",
       "1.728299e+09    1\n",
       "               ..\n",
       "1.730150e+09    1\n",
       "1.730149e+09    1\n",
       "1.730144e+09    1\n",
       "1.730142e+09    1\n",
       "1.726435e+09    1\n",
       "Name: count, Length: 949, dtype: int64"
      ]
     },
     "execution_count": 34,
     "metadata": {},
     "output_type": "execute_result"
    }
   ],
   "source": [
    "#Check for duplicates\n",
    "sub_1['utc'].value_counts()"
   ]
  },
  {
   "cell_type": "code",
   "execution_count": 35,
   "id": "22c98a2e-0dd1-4932-b1cb-b87cee1be588",
   "metadata": {},
   "outputs": [
    {
     "data": {
      "text/html": [
       "<div>\n",
       "<style scoped>\n",
       "    .dataframe tbody tr th:only-of-type {\n",
       "        vertical-align: middle;\n",
       "    }\n",
       "\n",
       "    .dataframe tbody tr th {\n",
       "        vertical-align: top;\n",
       "    }\n",
       "\n",
       "    .dataframe thead th {\n",
       "        text-align: right;\n",
       "    }\n",
       "</style>\n",
       "<table border=\"1\" class=\"dataframe\">\n",
       "  <thead>\n",
       "    <tr style=\"text-align: right;\">\n",
       "      <th></th>\n",
       "      <th>subreddit</th>\n",
       "      <th>title</th>\n",
       "      <th>selftext</th>\n",
       "      <th>utc</th>\n",
       "    </tr>\n",
       "  </thead>\n",
       "  <tbody>\n",
       "    <tr>\n",
       "      <th>0</th>\n",
       "      <td>personalfinance</td>\n",
       "      <td>Credit card 0% purchase / balance transfer</td>\n",
       "      <td>As title suggests I have received this card wi...</td>\n",
       "      <td>1.732110e+09</td>\n",
       "    </tr>\n",
       "    <tr>\n",
       "      <th>1</th>\n",
       "      <td>personalfinance</td>\n",
       "      <td>ATM didn’t give me my cash</td>\n",
       "      <td>so I recently used an out-of-network ATM at a ...</td>\n",
       "      <td>1.732110e+09</td>\n",
       "    </tr>\n",
       "    <tr>\n",
       "      <th>2</th>\n",
       "      <td>personalfinance</td>\n",
       "      <td>Teacher retirement: Is this enough?</td>\n",
       "      <td>I am in my 21st year as a teacher and gross 95...</td>\n",
       "      <td>1.732108e+09</td>\n",
       "    </tr>\n",
       "    <tr>\n",
       "      <th>3</th>\n",
       "      <td>personalfinance</td>\n",
       "      <td>Should I get a new credit card?</td>\n",
       "      <td>I'm moving to New York City in a couple weeks....</td>\n",
       "      <td>1.732108e+09</td>\n",
       "    </tr>\n",
       "    <tr>\n",
       "      <th>4</th>\n",
       "      <td>personalfinance</td>\n",
       "      <td>More salary or more retirement</td>\n",
       "      <td>Hypothetical \\n\\nMaxing out retirement so this...</td>\n",
       "      <td>1.732107e+09</td>\n",
       "    </tr>\n",
       "  </tbody>\n",
       "</table>\n",
       "</div>"
      ],
      "text/plain": [
       "         subreddit                                        title  \\\n",
       "0  personalfinance  Credit card 0% purchase / balance transfer    \n",
       "1  personalfinance                  ATM didn’t give me my cash    \n",
       "2  personalfinance          Teacher retirement: Is this enough?   \n",
       "3  personalfinance              Should I get a new credit card?   \n",
       "4  personalfinance              More salary or more retirement    \n",
       "\n",
       "                                            selftext           utc  \n",
       "0  As title suggests I have received this card wi...  1.732110e+09  \n",
       "1  so I recently used an out-of-network ATM at a ...  1.732110e+09  \n",
       "2  I am in my 21st year as a teacher and gross 95...  1.732108e+09  \n",
       "3  I'm moving to New York City in a couple weeks....  1.732108e+09  \n",
       "4  Hypothetical \\n\\nMaxing out retirement so this...  1.732107e+09  "
      ]
     },
     "execution_count": 35,
     "metadata": {},
     "output_type": "execute_result"
    }
   ],
   "source": [
    "#View the data\n",
    "sub_2.head()"
   ]
  },
  {
   "cell_type": "code",
   "execution_count": 36,
   "id": "34aa927a-2537-4d2a-af7b-d728f3b4ac60",
   "metadata": {},
   "outputs": [
    {
     "data": {
      "text/plain": [
       "(982, 4)"
      ]
     },
     "execution_count": 36,
     "metadata": {},
     "output_type": "execute_result"
    }
   ],
   "source": [
    "#View the amount of data\n",
    "sub_2.shape"
   ]
  },
  {
   "cell_type": "code",
   "execution_count": 37,
   "id": "03c1d951-820c-4ec6-9054-96519337ad5b",
   "metadata": {},
   "outputs": [
    {
     "data": {
      "text/plain": [
       "utc\n",
       "1.731691e+09    2\n",
       "1.731947e+09    2\n",
       "1.732110e+09    1\n",
       "1.731762e+09    1\n",
       "1.731771e+09    1\n",
       "               ..\n",
       "1.731956e+09    1\n",
       "1.731956e+09    1\n",
       "1.731956e+09    1\n",
       "1.731956e+09    1\n",
       "1.731603e+09    1\n",
       "Name: count, Length: 980, dtype: int64"
      ]
     },
     "execution_count": 37,
     "metadata": {},
     "output_type": "execute_result"
    }
   ],
   "source": [
    "#Check for duplicates\n",
    "sub_2['utc'].value_counts()"
   ]
  },
  {
   "cell_type": "code",
   "execution_count": 40,
   "id": "9f71c8a3-f624-4b41-9b58-4de11ce8641a",
   "metadata": {},
   "outputs": [],
   "source": [
    "#Duplicates have been Identifed so drop them.\n",
    "#Add to notes why we dropped the dupplicates. [After cleaning remove this]\n",
    "sub_2 = sub_2.drop_duplicates(subset=['utc'])"
   ]
  },
  {
   "cell_type": "code",
   "execution_count": 41,
   "id": "c7aaca60-057b-4d42-ae96-ddae21b48ba3",
   "metadata": {},
   "outputs": [
    {
     "data": {
      "text/plain": [
       "utc\n",
       "1.732110e+09    1\n",
       "1.731772e+09    1\n",
       "1.731771e+09    1\n",
       "1.731769e+09    1\n",
       "1.731769e+09    1\n",
       "               ..\n",
       "1.731956e+09    1\n",
       "1.731956e+09    1\n",
       "1.731956e+09    1\n",
       "1.731956e+09    1\n",
       "1.731603e+09    1\n",
       "Name: count, Length: 980, dtype: int64"
      ]
     },
     "execution_count": 41,
     "metadata": {},
     "output_type": "execute_result"
    }
   ],
   "source": [
    "sub_2['utc'].value_counts()"
   ]
  },
  {
   "cell_type": "code",
   "execution_count": 42,
   "id": "76354779-49ea-4cbd-bbc3-21aaacd10f4b",
   "metadata": {},
   "outputs": [],
   "source": [
    "#Save the dataset\n",
    "sub_1.to_csv('data/subreddit_1_dogposts.csv', index=False)\n",
    "sub_2.to_csv('data/subreddit_2_financeposts.csv', index=False)"
   ]
  },
  {
   "cell_type": "markdown",
   "id": "d2988e73-67a9-40b6-9d0f-ebf8668ea222",
   "metadata": {},
   "source": [
    "#### Combine all of the data we pulled\n",
    "- Read in the data\n",
    "- Assign the variable to the data\n",
    "- Combine the data\n",
    "- Save the combine dataset as 1"
   ]
  },
  {
   "cell_type": "code",
   "execution_count": 19,
   "id": "f48c60fc-7a9c-4968-b93d-598258d7b0e3",
   "metadata": {},
   "outputs": [],
   "source": [
    "df1 = pd.read_csv('./Data/subreddit_1_dogposts.csv')\n",
    "\n",
    "df_1 = pd.read_csv('./Data/subreddit_1_dogposts1.csv')\n",
    "\n",
    "df__1 = pd.read_csv ('./Data/subreddit_1_dogposts2.csv')\n",
    "\n",
    "df1_ = pd.read_csv ('./Data/subreddit_1_dogposts3.csv')\n",
    "\n",
    "df2 = pd.read_csv('./Data/subreddit_2_financeposts.csv')\n",
    "\n",
    "df_2 = pd.read_csv('./Data/subreddit_2_financeposts1.csv')\n",
    "\n",
    "df__2 = pd.read_csv('./Data/subreddit_2_financeposts2.csv')\n",
    "\n",
    "df2_ = pd.read_csv('./Data/subreddit_2_financeposts3.csv')"
   ]
  },
  {
   "cell_type": "code",
   "execution_count": 20,
   "id": "d5f6109b-f7f4-4165-b766-3b9c8f5f88dd",
   "metadata": {},
   "outputs": [],
   "source": [
    "reddit_df = pd.concat([df1, df_1, df__1, df1_, df2, df_2, df__2, df2_], axis=0, ignore_index=True)"
   ]
  },
  {
   "cell_type": "code",
   "execution_count": 31,
   "id": "e41d7b4e-35ff-4ce2-bb6f-9d9a39eb3235",
   "metadata": {},
   "outputs": [],
   "source": [
    "reddit_df.to_csv('./Data/reddit_combined_df.csv', index=False)"
   ]
  },
  {
   "cell_type": "code",
   "execution_count": 22,
   "id": "59204928-2987-4217-806a-12d17f98953a",
   "metadata": {},
   "outputs": [
    {
     "data": {
      "text/html": [
       "<div>\n",
       "<style scoped>\n",
       "    .dataframe tbody tr th:only-of-type {\n",
       "        vertical-align: middle;\n",
       "    }\n",
       "\n",
       "    .dataframe tbody tr th {\n",
       "        vertical-align: top;\n",
       "    }\n",
       "\n",
       "    .dataframe thead th {\n",
       "        text-align: right;\n",
       "    }\n",
       "</style>\n",
       "<table border=\"1\" class=\"dataframe\">\n",
       "  <thead>\n",
       "    <tr style=\"text-align: right;\">\n",
       "      <th></th>\n",
       "      <th>subreddit</th>\n",
       "      <th>title</th>\n",
       "      <th>selftext</th>\n",
       "      <th>utc</th>\n",
       "    </tr>\n",
       "  </thead>\n",
       "  <tbody>\n",
       "    <tr>\n",
       "      <th>0</th>\n",
       "      <td>dogs</td>\n",
       "      <td>Best pet friendly couches</td>\n",
       "      <td>I am looking to replace my couches and looking...</td>\n",
       "      <td>1.732064e+09</td>\n",
       "    </tr>\n",
       "    <tr>\n",
       "      <th>1</th>\n",
       "      <td>dogs</td>\n",
       "      <td>Hello beautiful dog owners!</td>\n",
       "      <td>I got offered a Pembroke puppy. She’s lower p...</td>\n",
       "      <td>1.732061e+09</td>\n",
       "    </tr>\n",
       "    <tr>\n",
       "      <th>2</th>\n",
       "      <td>dogs</td>\n",
       "      <td>best dog breed for a nervous cat?</td>\n",
       "      <td>hi! hope im doing this right lol i dont use re...</td>\n",
       "      <td>1.732055e+09</td>\n",
       "    </tr>\n",
       "    <tr>\n",
       "      <th>3</th>\n",
       "      <td>dogs</td>\n",
       "      <td>Can I train my dog to like soft toys without r...</td>\n",
       "      <td>I have the sweetest 5 y/o Newfie with quite a ...</td>\n",
       "      <td>1.732039e+09</td>\n",
       "    </tr>\n",
       "    <tr>\n",
       "      <th>4</th>\n",
       "      <td>dogs</td>\n",
       "      <td>Megathread: Why Does My Dog Do That?</td>\n",
       "      <td>Does your dog turn his head when he hears an o...</td>\n",
       "      <td>1.732036e+09</td>\n",
       "    </tr>\n",
       "  </tbody>\n",
       "</table>\n",
       "</div>"
      ],
      "text/plain": [
       "  subreddit                                              title  \\\n",
       "0      dogs                          Best pet friendly couches   \n",
       "1      dogs                        Hello beautiful dog owners!   \n",
       "2      dogs                  best dog breed for a nervous cat?   \n",
       "3      dogs  Can I train my dog to like soft toys without r...   \n",
       "4      dogs               Megathread: Why Does My Dog Do That?   \n",
       "\n",
       "                                            selftext           utc  \n",
       "0  I am looking to replace my couches and looking...  1.732064e+09  \n",
       "1   I got offered a Pembroke puppy. She’s lower p...  1.732061e+09  \n",
       "2  hi! hope im doing this right lol i dont use re...  1.732055e+09  \n",
       "3  I have the sweetest 5 y/o Newfie with quite a ...  1.732039e+09  \n",
       "4  Does your dog turn his head when he hears an o...  1.732036e+09  "
      ]
     },
     "execution_count": 22,
     "metadata": {},
     "output_type": "execute_result"
    }
   ],
   "source": [
    "reddit_df.head()"
   ]
  },
  {
   "cell_type": "code",
   "execution_count": 23,
   "id": "cdc09b83-d888-4f1c-85ac-b3e927a58bfa",
   "metadata": {},
   "outputs": [
    {
     "data": {
      "text/plain": [
       "0       False\n",
       "1       False\n",
       "2       False\n",
       "3       False\n",
       "4       False\n",
       "        ...  \n",
       "7705     True\n",
       "7706     True\n",
       "7707     True\n",
       "7708     True\n",
       "7709     True\n",
       "Name: subreddit, Length: 7710, dtype: bool"
      ]
     },
     "execution_count": 23,
     "metadata": {},
     "output_type": "execute_result"
    }
   ],
   "source": [
    "reddit_df['subreddit'] == 'personalfinance'"
   ]
  },
  {
   "cell_type": "code",
   "execution_count": 25,
   "id": "03bf8ed3-6492-4808-9bd7-537d6f4dc370",
   "metadata": {},
   "outputs": [
    {
     "data": {
      "text/plain": [
       "utc\n",
       "1.732064e+09    4\n",
       "1.727032e+09    4\n",
       "1.726954e+09    4\n",
       "1.726966e+09    4\n",
       "1.726970e+09    4\n",
       "               ..\n",
       "1.731676e+09    1\n",
       "1.731676e+09    1\n",
       "1.731675e+09    1\n",
       "1.731674e+09    1\n",
       "1.732223e+09    1\n",
       "Name: count, Length: 2642, dtype: int64"
      ]
     },
     "execution_count": 25,
     "metadata": {},
     "output_type": "execute_result"
    }
   ],
   "source": [
    "reddit_df['utc'].value_counts()"
   ]
  },
  {
   "cell_type": "code",
   "execution_count": 28,
   "id": "28b0f024-6c38-4601-bcca-5a721c79c77b",
   "metadata": {},
   "outputs": [],
   "source": [
    "red_df = reddit_df.drop_duplicates(subset=['utc'])"
   ]
  },
  {
   "cell_type": "code",
   "execution_count": 29,
   "id": "bf6b415e-feba-41f0-b0da-dbfea6028557",
   "metadata": {},
   "outputs": [
    {
     "data": {
      "text/plain": [
       "utc\n",
       "1.732064e+09    1\n",
       "1.731699e+09    1\n",
       "1.731696e+09    1\n",
       "1.731696e+09    1\n",
       "1.731696e+09    1\n",
       "               ..\n",
       "1.726706e+09    1\n",
       "1.726701e+09    1\n",
       "1.726696e+09    1\n",
       "1.726690e+09    1\n",
       "1.732223e+09    1\n",
       "Name: count, Length: 2642, dtype: int64"
      ]
     },
     "execution_count": 29,
     "metadata": {},
     "output_type": "execute_result"
    }
   ],
   "source": [
    "red_df['utc'].value_counts()"
   ]
  },
  {
   "cell_type": "code",
   "execution_count": 30,
   "id": "e6f394a6-baab-48d1-9fc9-e9a527d5738e",
   "metadata": {},
   "outputs": [],
   "source": [
    "red_df.to_csv('data/final_reddit_data.csv', index=False)"
   ]
  },
  {
   "cell_type": "code",
   "execution_count": null,
   "id": "69695210-b53f-48ef-9f35-2f4ac411ced9",
   "metadata": {},
   "outputs": [],
   "source": []
  }
 ],
 "metadata": {
  "kernelspec": {
   "display_name": "Python 3 (ipykernel)",
   "language": "python",
   "name": "python3"
  },
  "language_info": {
   "codemirror_mode": {
    "name": "ipython",
    "version": 3
   },
   "file_extension": ".py",
   "mimetype": "text/x-python",
   "name": "python",
   "nbconvert_exporter": "python",
   "pygments_lexer": "ipython3",
   "version": "3.12.4"
  }
 },
 "nbformat": 4,
 "nbformat_minor": 5
}
