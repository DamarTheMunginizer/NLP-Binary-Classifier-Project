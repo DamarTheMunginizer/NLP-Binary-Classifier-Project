{
 "cells": [
  {
   "cell_type": "markdown",
   "id": "88e1b4b7-ee2d-4e78-a23b-fe63b6bf0f44",
   "metadata": {
    "panel-layout": {
     "height": 113.15625,
     "visible": true,
     "width": 100
    }
   },
   "source": [
    "<img src=\"http://imgur.com/1ZcRyrc.png\" style=\"float: left; margin: 20px; height: 55px\">\n",
    "\n",
    "# **Project 3:** Subreddit Text Classification"
   ]
  },
  {
   "cell_type": "markdown",
   "id": "7031bf98-ea58-4312-984d-91b580a89453",
   "metadata": {},
   "source": [
    "## Purpose"
   ]
  },
  {
   "cell_type": "markdown",
   "id": "b544fa50-7511-4d11-b384-c6410515e709",
   "metadata": {},
   "source": [
    "The primary goal of this project is to build a text classification model that can accurately predict which of two subreddits a given post belongs to. This capability is to help researchers by automating the category of content, improving effiency."
   ]
  },
  {
   "cell_type": "markdown",
   "id": "3f89e15a-e35e-43cf-8347-9ce402e177e5",
   "metadata": {},
   "source": [
    "## Table of Contents\n",
    "\n",
    "1. [Exective Summary](#exective-summary)\n",
    "   \n",
    "1. [Problem Statement](#problem-statement)\n",
    "\n",
    "1. [Data](#data)\n",
    "\n",
    "1. [Interpretation/Summary](#interpretation/summary)"
   ]
  },
  {
   "cell_type": "markdown",
   "id": "cb10e1ac-9eef-49ce-addc-db8bc68c2bd9",
   "metadata": {},
   "source": [
    "---\n",
    "## Exective Summary"
   ]
  },
  {
   "cell_type": "markdown",
   "id": "03f71668-1370-4873-b3c1-f2e3a89f988d",
   "metadata": {},
   "source": [
    "This project will focus on developing a classsification model to classify posts between two subreddits: dogs_subreddit and personalfinance_subreddit. Using logistic regression and the random forest model, the project will demonstrate how supervised learning can be utilized to address the challenge categorization within a large platform."
   ]
  },
  {
   "cell_type": "markdown",
   "id": "8ff3830b-97af-4504-ae8e-90d61d3e9ada",
   "metadata": {},
   "source": [
    "---\n",
    "## Problem Statement"
   ]
  },
  {
   "cell_type": "markdown",
   "id": "835daae6-24ad-48f8-b288-dbb226f9f6fe",
   "metadata": {},
   "source": [
    "Reddit is comprised of numerous communities known as subreddits, where each subreddit is tailored to a specific interest, and misclassified posts can disrupt community discussions and reduce user engagement. To address this; I have taliored this project to develop and evaluate two supervised learning models:\n",
    "\n",
    "| Model Type                 | Model Description                                           |  \n",
    "|------------------------|-------------------------------------------------------|  \n",
    "| Logistic Regression    | A baseline model offering simplicity and interpretability. |  \n",
    "| Random Forest          | A model capturing non-linear relationships for better accuracy. |\n",
    "\n",
    "The success of the model is measured by evaluating accuracy, precision, recall, and F1-score on the test dataset. By streamlining subreddit classification, this project directly benefits researchers studying community behavior.\n",
    "\n",
    "---"
   ]
  },
  {
   "cell_type": "markdown",
   "id": "e03dcf86-592b-4af4-87cc-e9e43a3c6e54",
   "metadata": {},
   "source": [
    "## Data Overview"
   ]
  },
  {
   "cell_type": "markdown",
   "id": "bf0a2361-3d5a-413f-823b-a508f9e5e38e",
   "metadata": {},
   "source": [
    "There is 4 datasets included in the ['p3_data'](''./p3_data') folder for this project. I picked one which combined all my datasets but are cleaned and balanced out.\n",
    "\n",
    "* [`final_df.csv`](./p3_data/final_df.csv): Subreddit post combined into 1 with the data already cleaned.\n",
    "\n",
    "Source: Posts were collected using the Reddit API from two subreddits: dogs_subreddit and personalfinance_subreddit.\n",
    "\n",
    "- Vocab: \n",
    "1. Lemmatization is a text preprocessing technique in natural language processing (NLP) that reduces words to their base or dictionary form, called a lemma. Unlike stemming, which often chops off word endings to create a simpler form, lemmatization considers the context and grammar of the word to ensure the base form is valid in a language.\n",
    "\n",
    "1. stop_words - are common words in a language that are typically filtered out during natural language processing (NLP) tasks. These words are often removed because they occur frequently in text but usually do not carry meaningful information for tasks like classification, clustering, or topic modeling.\n",
    "\n",
    "---"
   ]
  },
  {
   "cell_type": "markdown",
   "id": "f330e6ea-bac6-4dc3-823c-d6dc4614beff",
   "metadata": {},
   "source": [
    "### Part 1. Data Set Up\n",
    "- Import The Libraries Required To Begin Working Towards The Problem Statement\n",
    "- Initialize PRAW and Authenicate Reddit API\n",
    "- Assign a varable to the subreddit we are comparing.\n",
    "- Show the function that was used to call in the number of post. **(1000 min post)**\n",
    "- Read-In the complete data **(Should've been collected and stored during data collection)**"
   ]
  },
  {
   "cell_type": "code",
   "execution_count": 1,
   "id": "8d2ca558-f3c2-40c6-9995-d3af13c28448",
   "metadata": {},
   "outputs": [],
   "source": [
    "#Imports\n",
    "import praw\n",
    "import os\n",
    "#Needed to read in the varibles that are sensitive.\n",
    "from dotenv import load_dotenv\n",
    "load_dotenv()\n",
    "\n",
    "import numpy as np\n",
    "import pandas as pd\n",
    "\n",
    "#I hid my sensitve information in an environment variable file\n",
    "#dotenv is to protect my information like my client_id, client_secret, and password; that was stored in my .env folder"
   ]
  },
  {
   "cell_type": "code",
   "execution_count": 2,
   "id": "c2c15964-6f46-41e5-a0fe-8d2eba2af78e",
   "metadata": {},
   "outputs": [],
   "source": [
    "#Initialize PRAW and Authenticate API\n",
    "reddit = praw.Reddit(\n",
    "    client_id = os.getenv('client_id'),\n",
    "    client_secret = os.getenv('client_secret'),\n",
    "    user_agent = 'text_classifier:v1.0 (by DvisionaryS)',\n",
    "    username = 'DvisionaryS',\n",
    "    password = os.getenv('password')\n",
    ")"
   ]
  },
  {
   "cell_type": "code",
   "execution_count": 3,
   "id": "393637ef-9afc-47a1-84d9-41247e7196e5",
   "metadata": {},
   "outputs": [],
   "source": [
    "# Assign a variable to the subreddits of your choosing\n",
    "subreddit_1 = 'dogs'\n",
    "subreddit_2 = 'personalfinance'"
   ]
  },
  {
   "cell_type": "code",
   "execution_count": 4,
   "id": "a64a0a6d-25fb-4f80-a252-78beb3262ccb",
   "metadata": {},
   "outputs": [],
   "source": [
    "# Function to find post for the dataset where n: represents the number of post we are trying to pull in.\n",
    "def fetch_posts(subreddit_name, total_posts=5000, batch_size=1000):\n",
    "    subreddit = reddit.subreddit(subreddit_name)  # Access the subreddit\n",
    "    posts = []\n",
    "    after = None  # Placeholder for pagination\n",
    "    fetched_post_ids = set()  # Set to track already fetched post IDs\n",
    "    loops = total_posts // batch_size  # Number of loops required, adjusted to total posts\n",
    "\n",
    "    print(f\"Fetching posts from subreddit: {subreddit_name}\")\n",
    "\n",
    "    for i in range(loops):\n",
    "        if i % 10 == 0: \n",
    "            print(f\"Starting loop {i + 1}/{loops}\")  # Print progress every 10 loops\n",
    "\n",
    "        try:\n",
    "            # Fetch posts in batches\n",
    "            batch_posts = subreddit.new(limit=batch_size)\n",
    "            for post in batch_posts:\n",
    "                if post is not None:\n",
    "                    # Skip posts that have already been fetched\n",
    "                    if post.id not in fetched_post_ids:\n",
    "                        posts.append({\n",
    "                            'subreddit': post.subreddit.display_name,  # Export the titles I am interested in\n",
    "                            'title': post.title,\n",
    "                            'selftext': post.selftext,\n",
    "                            'utc': post.created_utc\n",
    "                        })\n",
    "                        fetched_post_ids.add(post.id)  # Mark this post as fetched\n",
    "\n",
    "            # Simulate delay to avoid rate limits\n",
    "            time.sleep(60)\n",
    "\n",
    "        except Exception as e:\n",
    "            print(f\"Error occurred: {e}\")\n",
    "            break\n",
    "\n",
    "    return pd.DataFrame(posts)"
   ]
  },
  {
   "cell_type": "markdown",
   "id": "91060618-1401-47c1-96c6-365b94adf73e",
   "metadata": {},
   "source": [
    "#### Run fetch_post(subreddit_variable)(**From the variable we assigned**) \n",
    "- Store the function as a varible so the collected data is availiable for viewing.\n",
    "\n",
    "##### EX: \n",
    "- sub_1 = fetch_posts(subreddit_1) \n",
    "- sub_2 = fetch_posts(subreddit_2)"
   ]
  },
  {
   "cell_type": "code",
   "execution_count": 5,
   "id": "5ba7f755-23f8-464a-b317-940aa51e583a",
   "metadata": {},
   "outputs": [],
   "source": [
    "#Read in the  data\n",
    "df = pd.read_csv('./p3_data/final_df.csv')"
   ]
  },
  {
   "cell_type": "markdown",
   "id": "358f9410-6c21-444d-8a6a-fc9e5eb0ab3b",
   "metadata": {},
   "source": [
    "### Part 2: Exploratory Data Analysis (EDA)\n",
    "- View the data (View the first few rows, and see how much data is in your dataset) **(Hint: .head(), .shape, .info(), .describe())**\n",
    "- Check the data for duplicates and missing data.\n",
    "- Text length and word count analysis.\n",
    "- Distribution of each subreddit.\n",
    "- Top individual words and bigrams for each subreddit.\n",
    "- Correlation matrix for numerical features.\n",
    "- Box plots for post scores and average word lengths\n",
    "- Analysis of text complexity through average word length.\n",
    "- Bigrams to understand common word pairings.\n",
    "\n",
    "| Value | Subreddit              |\n",
    "|-------|------------------------|\n",
    "| 1     | dogs_subreddit         |\n",
    "| 0     | personalfinance_subreddit |"
   ]
  },
  {
   "cell_type": "code",
   "execution_count": 6,
   "id": "32429924-8466-4411-97c7-75e09ae099dc",
   "metadata": {},
   "outputs": [],
   "source": [
    "#Import Libraries\n",
    "import nltk\n",
    "from nltk.tokenize import word_tokenize\n",
    "import seaborn as sns\n",
    "import matplotlib.pyplot as plt\n",
    "\n",
    "from collections import Counter\n",
    "\n",
    "from sklearn.feature_extraction.text import CountVectorizer"
   ]
  },
  {
   "cell_type": "code",
   "execution_count": 7,
   "id": "5cc097be-3aaa-4f19-8aec-a61b445fae3c",
   "metadata": {},
   "outputs": [
    {
     "data": {
      "text/plain": [
       "(2004, 4)"
      ]
     },
     "execution_count": 7,
     "metadata": {},
     "output_type": "execute_result"
    }
   ],
   "source": [
    "#View the dataset\n",
    "df.shape"
   ]
  },
  {
   "cell_type": "code",
   "execution_count": 8,
   "id": "9b0e0442-8d6b-4b4e-9905-a078bcb214a0",
   "metadata": {
    "scrolled": true
   },
   "outputs": [
    {
     "data": {
      "text/html": [
       "<div>\n",
       "<style scoped>\n",
       "    .dataframe tbody tr th:only-of-type {\n",
       "        vertical-align: middle;\n",
       "    }\n",
       "\n",
       "    .dataframe tbody tr th {\n",
       "        vertical-align: top;\n",
       "    }\n",
       "\n",
       "    .dataframe thead th {\n",
       "        text-align: right;\n",
       "    }\n",
       "</style>\n",
       "<table border=\"1\" class=\"dataframe\">\n",
       "  <thead>\n",
       "    <tr style=\"text-align: right;\">\n",
       "      <th></th>\n",
       "      <th>title</th>\n",
       "      <th>selftext</th>\n",
       "      <th>subreddit</th>\n",
       "      <th>utc</th>\n",
       "    </tr>\n",
       "  </thead>\n",
       "  <tbody>\n",
       "    <tr>\n",
       "      <th>0</th>\n",
       "      <td>Living overseas, investing in the US...worried...</td>\n",
       "      <td>Hi everyone, I'm living overseas at the moment...</td>\n",
       "      <td>0</td>\n",
       "      <td>1.731653e+09</td>\n",
       "    </tr>\n",
       "    <tr>\n",
       "      <th>1</th>\n",
       "      <td>[Weekly Vent]September 30-04, 2024</td>\n",
       "      <td>Is someone not picking up poop in front of you...</td>\n",
       "      <td>1</td>\n",
       "      <td>1.727698e+09</td>\n",
       "    </tr>\n",
       "    <tr>\n",
       "      <th>2</th>\n",
       "      <td>Choosing My First Dog: Shih Tzu vs. Bichon Fri...</td>\n",
       "      <td>Hello, r/dogs community! I’m on the verge of b...</td>\n",
       "      <td>1</td>\n",
       "      <td>1.731888e+09</td>\n",
       "    </tr>\n",
       "    <tr>\n",
       "      <th>3</th>\n",
       "      <td>Early withdrawal after termination with outsta...</td>\n",
       "      <td>I’m going to go over what I think I know. I’m ...</td>\n",
       "      <td>0</td>\n",
       "      <td>1.732383e+09</td>\n",
       "    </tr>\n",
       "    <tr>\n",
       "      <th>4</th>\n",
       "      <td>Megathread: Why Does My Dog Do That?</td>\n",
       "      <td>Does your dog turn his head when he hears an o...</td>\n",
       "      <td>1</td>\n",
       "      <td>1.727539e+09</td>\n",
       "    </tr>\n",
       "  </tbody>\n",
       "</table>\n",
       "</div>"
      ],
      "text/plain": [
       "                                               title  \\\n",
       "0  Living overseas, investing in the US...worried...   \n",
       "1                 [Weekly Vent]September 30-04, 2024   \n",
       "2  Choosing My First Dog: Shih Tzu vs. Bichon Fri...   \n",
       "3  Early withdrawal after termination with outsta...   \n",
       "4               Megathread: Why Does My Dog Do That?   \n",
       "\n",
       "                                            selftext  subreddit           utc  \n",
       "0  Hi everyone, I'm living overseas at the moment...          0  1.731653e+09  \n",
       "1  Is someone not picking up poop in front of you...          1  1.727698e+09  \n",
       "2  Hello, r/dogs community! I’m on the verge of b...          1  1.731888e+09  \n",
       "3  I’m going to go over what I think I know. I’m ...          0  1.732383e+09  \n",
       "4  Does your dog turn his head when he hears an o...          1  1.727539e+09  "
      ]
     },
     "execution_count": 8,
     "metadata": {},
     "output_type": "execute_result"
    }
   ],
   "source": [
    "#Overview of data\n",
    "df.head()"
   ]
  },
  {
   "cell_type": "code",
   "execution_count": 9,
   "id": "ce5ef2b5-8329-4272-a0a1-338e37d20240",
   "metadata": {},
   "outputs": [
    {
     "name": "stdout",
     "output_type": "stream",
     "text": [
      "<class 'pandas.core.frame.DataFrame'>\n",
      "RangeIndex: 2004 entries, 0 to 2003\n",
      "Data columns (total 4 columns):\n",
      " #   Column     Non-Null Count  Dtype  \n",
      "---  ------     --------------  -----  \n",
      " 0   title      2004 non-null   object \n",
      " 1   selftext   2004 non-null   object \n",
      " 2   subreddit  2004 non-null   int64  \n",
      " 3   utc        2004 non-null   float64\n",
      "dtypes: float64(1), int64(1), object(2)\n",
      "memory usage: 62.8+ KB\n"
     ]
    }
   ],
   "source": [
    "#View the dataset\n",
    "df.info()"
   ]
  },
  {
   "cell_type": "code",
   "execution_count": 10,
   "id": "461d3e56-acc9-4ab2-a6bf-28656d4c0080",
   "metadata": {},
   "outputs": [
    {
     "data": {
      "text/html": [
       "<div>\n",
       "<style scoped>\n",
       "    .dataframe tbody tr th:only-of-type {\n",
       "        vertical-align: middle;\n",
       "    }\n",
       "\n",
       "    .dataframe tbody tr th {\n",
       "        vertical-align: top;\n",
       "    }\n",
       "\n",
       "    .dataframe thead th {\n",
       "        text-align: right;\n",
       "    }\n",
       "</style>\n",
       "<table border=\"1\" class=\"dataframe\">\n",
       "  <thead>\n",
       "    <tr style=\"text-align: right;\">\n",
       "      <th></th>\n",
       "      <th>subreddit</th>\n",
       "      <th>utc</th>\n",
       "    </tr>\n",
       "  </thead>\n",
       "  <tbody>\n",
       "    <tr>\n",
       "      <th>count</th>\n",
       "      <td>2004.000000</td>\n",
       "      <td>2.004000e+03</td>\n",
       "    </tr>\n",
       "    <tr>\n",
       "      <th>mean</th>\n",
       "      <td>0.500000</td>\n",
       "      <td>1.730681e+09</td>\n",
       "    </tr>\n",
       "    <tr>\n",
       "      <th>std</th>\n",
       "      <td>0.500125</td>\n",
       "      <td>1.836978e+06</td>\n",
       "    </tr>\n",
       "    <tr>\n",
       "      <th>min</th>\n",
       "      <td>0.000000</td>\n",
       "      <td>1.726435e+09</td>\n",
       "    </tr>\n",
       "    <tr>\n",
       "      <th>25%</th>\n",
       "      <td>0.000000</td>\n",
       "      <td>1.729269e+09</td>\n",
       "    </tr>\n",
       "    <tr>\n",
       "      <th>50%</th>\n",
       "      <td>0.500000</td>\n",
       "      <td>1.731689e+09</td>\n",
       "    </tr>\n",
       "    <tr>\n",
       "      <th>75%</th>\n",
       "      <td>1.000000</td>\n",
       "      <td>1.732124e+09</td>\n",
       "    </tr>\n",
       "    <tr>\n",
       "      <th>max</th>\n",
       "      <td>1.000000</td>\n",
       "      <td>1.732494e+09</td>\n",
       "    </tr>\n",
       "  </tbody>\n",
       "</table>\n",
       "</div>"
      ],
      "text/plain": [
       "         subreddit           utc\n",
       "count  2004.000000  2.004000e+03\n",
       "mean      0.500000  1.730681e+09\n",
       "std       0.500125  1.836978e+06\n",
       "min       0.000000  1.726435e+09\n",
       "25%       0.000000  1.729269e+09\n",
       "50%       0.500000  1.731689e+09\n",
       "75%       1.000000  1.732124e+09\n",
       "max       1.000000  1.732494e+09"
      ]
     },
     "execution_count": 10,
     "metadata": {},
     "output_type": "execute_result"
    }
   ],
   "source": [
    "#Statical view of the data\n",
    "df.describe()"
   ]
  },
  {
   "cell_type": "code",
   "execution_count": 11,
   "id": "dfc03b43-b9c3-4cd8-8f9e-e99250358c32",
   "metadata": {},
   "outputs": [
    {
     "data": {
      "text/plain": [
       "title        0\n",
       "selftext     0\n",
       "subreddit    0\n",
       "utc          0\n",
       "dtype: int64"
      ]
     },
     "execution_count": 11,
     "metadata": {},
     "output_type": "execute_result"
    }
   ],
   "source": [
    "#Check for null values\n",
    "df.isnull().sum()"
   ]
  },
  {
   "cell_type": "code",
   "execution_count": 12,
   "id": "08c2b64c-2da9-409c-b55e-bcc603797b3b",
   "metadata": {},
   "outputs": [],
   "source": [
    "#Add a column for text\n",
    "df['text'] = df['title'] + \" \" +df['selftext']"
   ]
  },
  {
   "cell_type": "code",
   "execution_count": 13,
   "id": "f3fd8eaa-31a2-4fd9-9436-b75e70139aeb",
   "metadata": {},
   "outputs": [],
   "source": [
    "#Create a column for text_length\n",
    "df['text_length'] = df['text'].apply(len)"
   ]
  },
  {
   "cell_type": "code",
   "execution_count": 14,
   "id": "0da91b23-3f3a-4748-ac07-ca5d12dd705b",
   "metadata": {},
   "outputs": [],
   "source": [
    "#Create a column for the word_count\n",
    "df['word_count'] = df['text'].apply(lambda x: len(word_tokenize(x)))"
   ]
  },
  {
   "cell_type": "code",
   "execution_count": 15,
   "id": "caf0b742-5467-405f-b3f8-f57069318ab0",
   "metadata": {},
   "outputs": [
    {
     "data": {
      "text/plain": [
       "subreddit\n",
       "0    1002\n",
       "1    1002\n",
       "Name: count, dtype: int64"
      ]
     },
     "execution_count": 15,
     "metadata": {},
     "output_type": "execute_result"
    }
   ],
   "source": [
    "#Check the distribution of data\n",
    "df['subreddit'].value_counts()"
   ]
  },
  {
   "cell_type": "code",
   "execution_count": 16,
   "id": "f3a209c2-1ed1-47ed-917c-443455e38079",
   "metadata": {},
   "outputs": [
    {
     "data": {
      "image/png": "[encoded data removed]",
      "text/plain": [
       "<Figure size 800x500 with 1 Axes>"
      ]
     },
     "metadata": {},
     "output_type": "display_data"
    }
   ],
   "source": [
    "# Visual of distribution\n",
    "plt.figure(figsize=(8, 5))\n",
    "sns.countplot(data=df, x='subreddit', hue='subreddit', palette=['#1f77b4', '#ff7f0e'], legend=False)\n",
    "plt.title('Class Distribution')\n",
    "plt.xlabel('Subreddit')\n",
    "plt.ylabel('Count')\n",
    "plt.show();"
   ]
  },
  {
   "cell_type": "code",
   "execution_count": 17,
   "id": "67d76a4f-1629-4f66-ae62-af53f09063fe",
   "metadata": {},
   "outputs": [
    {
     "data": {
      "image/png": "[encoded data removed]",
      "text/plain": [
       "<Figure size 1000x600 with 1 Axes>"
      ]
     },
     "metadata": {},
     "output_type": "display_data"
    }
   ],
   "source": [
    "#Word count distributions \n",
    "plt.figure(figsize=(10, 6))\n",
    "sns.histplot(data=df, x='word_count', hue='subreddit', kde=True, bins=30)\n",
    "plt.title('Word Count Distribution by Subreddit')\n",
    "plt.xlabel('Word Count')\n",
    "plt.ylabel('Frequency')\n",
    "plt.show()"
   ]
  },
  {
   "cell_type": "code",
   "execution_count": 18,
   "id": "a3e79446-23c9-44b7-a68e-07bd2069689b",
   "metadata": {},
   "outputs": [
    {
     "name": "stdout",
     "output_type": "stream",
     "text": [
      "\n",
      "Top Words in 0 Subreddit:\n",
      "I: 6261\n",
      "to: 5332\n",
      "the: 4506\n",
      "a: 4498\n",
      "and: 4010\n",
      "my: 2919\n",
      "in: 2534\n",
      "for: 2208\n",
      "of: 2188\n",
      "have: 1746\n",
      "\n",
      "Top Words in 1 Subreddit:\n",
      "to: 9642\n",
      "a: 7551\n",
      "and: 7126\n",
      "the: 6482\n",
      "I: 5760\n",
      "dog: 5309\n",
      "you: 4858\n",
      "of: 3658\n",
      "in: 3364\n",
      "with: 3239\n"
     ]
    }
   ],
   "source": [
    "#Top words for each subreddit\n",
    "def get_top_words(texts, top_n=20):\n",
    "    all_words = \" \".join(texts).split()\n",
    "    word_counts = Counter(all_words)\n",
    "    return word_counts.most_common(top_n)\n",
    "\n",
    "for subreddit in df['subreddit'].unique():\n",
    "    subreddit_texts = df[df['subreddit'] == subreddit]['text']\n",
    "    top_words = get_top_words(subreddit_texts, top_n=10)\n",
    "    print(f\"\\nTop Words in {subreddit} Subreddit:\")\n",
    "    for word, count in top_words:\n",
    "        print(f\"{word}: {count}\")"
   ]
  },
  {
   "cell_type": "code",
   "execution_count": 19,
   "id": "984c0dd2-3644-4dfd-a8bb-fc2c13c1b069",
   "metadata": {},
   "outputs": [
    {
     "data": {
      "image/png": "[encoded data removed]",
      "text/plain": [
       "<Figure size 1000x600 with 2 Axes>"
      ]
     },
     "metadata": {},
     "output_type": "display_data"
    }
   ],
   "source": [
    "#Correlation analysis\n",
    "numeric_features = df.select_dtypes(include=np.number)\n",
    "if not numeric_features.empty:\n",
    "    plt.figure(figsize=(10, 6))\n",
    "    sns.heatmap(numeric_features.corr(), annot=True, cmap='coolwarm', fmt='.2f')\n",
    "    plt.title('Correlation Matrix')\n",
    "    plt.show();"
   ]
  },
  {
   "cell_type": "code",
   "execution_count": 20,
   "id": "3acb326d-1fa0-42f5-ad62-1d02eeb978ad",
   "metadata": {},
   "outputs": [
    {
     "data": {
      "image/png": "[encoded data removed]",
      "text/plain": [
       "<Figure size 1000x600 with 1 Axes>"
      ]
     },
     "metadata": {},
     "output_type": "display_data"
    }
   ],
   "source": [
    "#Token length analysis\n",
    "df['avg_word_length'] = df['text'].apply(lambda x: np.mean([len(word) for word in word_tokenize(x)]))\n",
    "plt.figure(figsize=(10, 6))\n",
    "sns.boxplot(data=df, x='subreddit', y='avg_word_length', hue='subreddit', palette='Set2')\n",
    "plt.title('Average Word Length by Subreddit')\n",
    "plt.xlabel('Subreddit')\n",
    "plt.ylabel('Average Word Length')\n",
    "plt.show()"
   ]
  },
  {
   "cell_type": "code",
   "execution_count": 21,
   "id": "51336b96-700c-4dfe-af71-3a0d4e346288",
   "metadata": {},
   "outputs": [
    {
     "name": "stderr",
     "output_type": "stream",
     "text": [
      "/var/folders/pk/z58dkjgn50153_74d2055v0r0000gn/T/ipykernel_26674/1887932637.py:13: FutureWarning: \n",
      "\n",
      "Passing `palette` without assigning `hue` is deprecated and will be removed in v0.14.0. Assign the `y` variable to `hue` and set `legend=False` for the same effect.\n",
      "\n",
      "  sns.barplot(x=counts, y=bigrams, palette=\"coolwarm\")\n"
     ]
    },
    {
     "data": {
      "image/png": "[encoded data removed]",
      "text/plain": [
       "<Figure size 800x400 with 1 Axes>"
      ]
     },
     "metadata": {},
     "output_type": "display_data"
    },
    {
     "name": "stderr",
     "output_type": "stream",
     "text": [
      "/var/folders/pk/z58dkjgn50153_74d2055v0r0000gn/T/ipykernel_26674/1887932637.py:13: FutureWarning: \n",
      "\n",
      "Passing `palette` without assigning `hue` is deprecated and will be removed in v0.14.0. Assign the `y` variable to `hue` and set `legend=False` for the same effect.\n",
      "\n",
      "  sns.barplot(x=counts, y=bigrams, palette=\"coolwarm\")\n"
     ]
    },
    {
     "data": {
      "image/png": "[encoded data removed]",
      "text/plain": [
       "<Figure size 800x400 with 1 Axes>"
      ]
     },
     "metadata": {},
     "output_type": "display_data"
    }
   ],
   "source": [
    "#Extracts top n_grams\n",
    "def get_top_ngrams(corpus, n=2, top_n=5):\n",
    "    vectorizer = CountVectorizer(ngram_range=(n, n))\n",
    "    ngrams = vectorizer.fit_transform(corpus)\n",
    "    sum_ngrams = ngrams.sum(axis=0)\n",
    "    ngram_counts = [(word, sum_ngrams[0, idx]) for word, idx in vectorizer.vocabulary_.items()]\n",
    "    return sorted(ngram_counts, key=lambda x: x[1], reverse=True)[:top_n]\n",
    "\n",
    "#Plots the top n_grams\n",
    "def plot_top_bigrams(subreddit, bigrams, top_n=5):\n",
    "    bigrams, counts = zip(*bigrams)\n",
    "    plt.figure(figsize=(8, 4))\n",
    "    sns.barplot(x=counts, y=bigrams, palette=\"coolwarm\")\n",
    "    plt.title(f\"Top {top_n} Bigrams in {subreddit} Subreddit\")\n",
    "    plt.xlabel(\"Frequency\")\n",
    "    plt.ylabel(\"Bigrams\")\n",
    "    plt.show()\n",
    "#Compares the subreddits in seperate charts\n",
    "def compare_bigrams_separately(df, subreddit_col, text_col, n=2, top_n=5):\n",
    "    subreddits = df[subreddit_col].unique()\n",
    "    \n",
    "    for subreddit in subreddits:\n",
    "        subreddit_corpus = df[df[subreddit_col] == subreddit][text_col]\n",
    "        top_bigrams = get_top_ngrams(subreddit_corpus, n=n, top_n=top_n)\n",
    "        plot_top_bigrams(subreddit, top_bigrams, top_n=top_n)\n",
    "\n",
    "# Example Usage\n",
    "compare_bigrams_separately(df, subreddit_col='subreddit', text_col='text', n=2, top_n=5)"
   ]
  },
  {
   "cell_type": "markdown",
   "id": "2825085b-89e3-465f-ac39-f25f56139f7a",
   "metadata": {
    "jp-MarkdownHeadingCollapsed": true
   },
   "source": [
    "#### Based on the data avaliable; I believe that I will be able to address my problem statement of can I effectively build a model and based on the data that is given: can it determine which subreddit it belongs to belongs to with high accuracy."
   ]
  },
  {
   "cell_type": "markdown",
   "id": "e2d6b484-9113-45b7-afa7-e0c01a3ed656",
   "metadata": {},
   "source": [
    "### Part 3: Data Preprocessing(Natural Language Preprocessing)(NLP)\n",
    "- Tokenization, lemmatization, and stopword removal.\n",
    "- Encode the text. (Done in the data collection)"
   ]
  },
  {
   "cell_type": "code",
   "execution_count": 22,
   "id": "989cbce0-ee5e-47b3-9579-da63298ea124",
   "metadata": {},
   "outputs": [],
   "source": [
    "from nltk.corpus import stopwords\n",
    "from nltk.stem import WordNetLemmatizer\n",
    "\n",
    "import re"
   ]
  },
  {
   "cell_type": "code",
   "execution_count": 23,
   "id": "cc55b0c6-0abd-42d6-a4a2-557f05ae45c3",
   "metadata": {},
   "outputs": [],
   "source": [
    "# Define preprocessing function\n",
    "stop_words = set(stopwords.words('english'))\n",
    "lemmatizer = WordNetLemmatizer()\n",
    "\n",
    "#Preprocess new data\n",
    "def preprocess(text):\n",
    "     # Lowercase and remove non-alphabetic characters\n",
    "        text = re.sub(r'[^a-zA-Z\\s]', ' ', text.lower())\n",
    "        tokens = text.split()\n",
    "    # Tokenize and lemmatize\n",
    "        tokens = [lemmatizer.lemmatize(word) for word in text.split() if word not in stop_words]\n",
    "        return \" \".join(tokens)\n"
   ]
  },
  {
   "cell_type": "code",
   "execution_count": 24,
   "id": "88491c75-c4d3-4ca5-adc2-83d8dcd7cacb",
   "metadata": {},
   "outputs": [],
   "source": [
    "#Apply preprocessing\n",
    "df['text'] = (df['text'].apply(preprocess))"
   ]
  },
  {
   "cell_type": "markdown",
   "id": "20dfd119-da5f-4ad8-85ef-bef0b6b3ecb1",
   "metadata": {},
   "source": [
    "### Part 4: Model Building\n",
    "- Split the data into training and test sets\n",
    "- Train a classification model\n",
    "- Vectorize the text.\n",
    "- Evaluate model performance using metrics such as accuracy\n",
    "\n",
    "### Classification Accuracy Score\n",
    "\n",
    "The formula for classification accuracy is:\n",
    "## Accuracy = $\\frac{\\text{True Positive} + \\text{True Negative}}{\\text{True Positive} + \\text{True Negative} + \\text{False Positive} + \\text{False Negative}}$\n"
   ]
  },
  {
   "cell_type": "markdown",
   "id": "078fe8d0-76e8-4472-8114-5e2fcb765107",
   "metadata": {},
   "source": [
    "| Value | Subreddit              |\n",
    "|-------|------------------------|\n",
    "| 1     | dogs_subreddit         |\n",
    "| 0     | personalfinance_subreddit |"
   ]
  },
  {
   "cell_type": "code",
   "execution_count": 25,
   "id": "7a054f40-53b8-4762-9b24-09c5f70f5af0",
   "metadata": {},
   "outputs": [],
   "source": [
    "#Import Libraries\n",
    "from sklearn.model_selection import train_test_split\n",
    "from sklearn.dummy import DummyClassifier\n",
    "from sklearn.feature_extraction.text import TfidfVectorizer\n",
    "from sklearn.linear_model import LogisticRegression\n",
    "from sklearn.ensemble import RandomForestClassifier\n",
    "from sklearn.metrics import accuracy_score, classification_report"
   ]
  },
  {
   "cell_type": "code",
   "execution_count": 26,
   "id": "63812c3e-86e8-4db8-8871-3f18b03ee92d",
   "metadata": {},
   "outputs": [
    {
     "name": "stdout",
     "output_type": "stream",
     "text": [
      "Baseline Accuracy: 0.50\n"
     ]
    }
   ],
   "source": [
    "#Baseline accuracy\n",
    "baseline = df['subreddit'].value_counts(normalize=True).max()\n",
    "print(f'Baseline Accuracy: {baseline:.2f}')"
   ]
  },
  {
   "cell_type": "code",
   "execution_count": 27,
   "id": "32adc365-b63d-4500-a57a-a4fd709ad569",
   "metadata": {},
   "outputs": [],
   "source": [
    "#Set target variable\n",
    "X = df['text']\n",
    "y = df['subreddit'] "
   ]
  },
  {
   "cell_type": "code",
   "execution_count": 28,
   "id": "30066e73-849a-4c41-8745-6350ec646eba",
   "metadata": {},
   "outputs": [],
   "source": [
    "#Split the data\n",
    "X_train, X_test, y_train, y_test = train_test_split(X, y, test_size=0.3, random_state=42, stratify=y)"
   ]
  },
  {
   "cell_type": "code",
   "execution_count": 29,
   "id": "92c8fb3f-ff34-4000-8539-4a7cbc10793b",
   "metadata": {},
   "outputs": [
    {
     "name": "stdout",
     "output_type": "stream",
     "text": [
      "Baseline Accuracy (Random Guessing): 50.66%\n"
     ]
    }
   ],
   "source": [
    "# Simulate random guessing\n",
    "dummy = DummyClassifier(strategy=\"stratified\", random_state=42)\n",
    "dummy.fit(X_train, y_train)\n",
    "baseline_score = dummy.score(X_test, y_test)\n",
    "print(f'Baseline Accuracy (Random Guessing): {baseline_score:.2%}')"
   ]
  },
  {
   "cell_type": "code",
   "execution_count": 30,
   "id": "0305d2eb-e346-41d4-a726-63c76e16b0c7",
   "metadata": {},
   "outputs": [],
   "source": [
    "#Vectorize the text\n",
    "vectorizer = TfidfVectorizer(max_features=5000)\n",
    "X_train_vect = vectorizer.fit_transform(X_train)\n",
    "X_test_vect = vectorizer.transform(X_test)"
   ]
  },
  {
   "cell_type": "code",
   "execution_count": 31,
   "id": "ecd812ec-bd06-41c3-8656-24903fe5b61b",
   "metadata": {},
   "outputs": [],
   "source": [
    "#Identify the two models\n",
    "#Logistic Regression\n",
    "model_lr = LogisticRegression()\n",
    "model_lr.fit(X_train_vect, y_train)\n",
    "pred_lr = model_lr.predict(X_test_vect)\n",
    "\n",
    "#Random Forest\n",
    "model_rf = RandomForestClassifier(n_estimators=100,\n",
    "                                  max_depth=4,\n",
    "                                  min_samples_split=200,\n",
    "                                  random_state=42)\n",
    "model_rf.fit(X_train_vect, y_train)\n",
    "pred_rf = model_rf.predict(X_test_vect)"
   ]
  },
  {
   "cell_type": "code",
   "execution_count": 32,
   "id": "947166cc-ab8e-4c74-954c-b7c04e9ed0aa",
   "metadata": {},
   "outputs": [
    {
     "name": "stdout",
     "output_type": "stream",
     "text": [
      "Logistics Regression Accuracy: 99.83%\n"
     ]
    }
   ],
   "source": [
    "#Logistics Regression accuracy\n",
    "lr_accuracy = model_lr.score(X_test_vect, y_test)\n",
    "print(f'Logistics Regression Accuracy: {lr_accuracy:.2%}')"
   ]
  },
  {
   "cell_type": "code",
   "execution_count": 33,
   "id": "503f8e57-fa49-4167-87a3-60ca0f0f4fb0",
   "metadata": {},
   "outputs": [
    {
     "name": "stdout",
     "output_type": "stream",
     "text": [
      "Log Regression Classification Report:\n",
      "               precision    recall  f1-score   support\n",
      "\n",
      "           0       1.00      1.00      1.00       301\n",
      "           1       1.00      1.00      1.00       301\n",
      "\n",
      "    accuracy                           1.00       602\n",
      "   macro avg       1.00      1.00      1.00       602\n",
      "weighted avg       1.00      1.00      1.00       602\n",
      "\n"
     ]
    }
   ],
   "source": [
    "#View classification report\n",
    "classifi = classification_report(y_test, pred_lr)\n",
    "print(f'Log Regression Classification Report:\\n {classifi}')"
   ]
  },
  {
   "cell_type": "code",
   "execution_count": 34,
   "id": "7fe04a83-53f6-4676-93c9-bc23b26ecdc7",
   "metadata": {},
   "outputs": [
    {
     "name": "stdout",
     "output_type": "stream",
     "text": [
      "Random Forest Accuracy: 98.01%\n"
     ]
    }
   ],
   "source": [
    "#Random Forest accuracy\n",
    "rf_accuracy = model_rf.score(X_test_vect, y_test)\n",
    "print(f'Random Forest Accuracy: {rf_accuracy:.2%}')"
   ]
  },
  {
   "cell_type": "code",
   "execution_count": 35,
   "id": "ee4a72e2-7e30-4a93-8bfb-9cbb3f32dd7b",
   "metadata": {},
   "outputs": [
    {
     "name": "stdout",
     "output_type": "stream",
     "text": [
      "Random Forest Classification Report:\n",
      "               precision    recall  f1-score   support\n",
      "\n",
      "           0       0.96      1.00      0.98       301\n",
      "           1       1.00      0.96      0.98       301\n",
      "\n",
      "    accuracy                           0.98       602\n",
      "   macro avg       0.98      0.98      0.98       602\n",
      "weighted avg       0.98      0.98      0.98       602\n",
      "\n"
     ]
    }
   ],
   "source": [
    "#View classification report\n",
    "classi = classification_report(y_test, pred_rf)\n",
    "print(f'Random Forest Classification Report:\\n {classi}')"
   ]
  },
  {
   "cell_type": "markdown",
   "id": "8728ff49-ff6b-4518-b35d-816c3bb310db",
   "metadata": {},
   "source": [
    "### Part 5: Test Model on completely new data\n",
    "- Use fetch model(from [Part 1](Part_1._Data_Set_Up)) for subreddits\n",
    "- Fetch new data\n",
    "- Preprocess the data\n",
    "- Vectorize the data\n",
    "- Use the model to predict the subreddit\n",
    "- View the accuracy"
   ]
  },
  {
   "cell_type": "code",
   "execution_count": 36,
   "id": "60af807d-4f11-4408-bc4c-07a7689fbf2d",
   "metadata": {},
   "outputs": [],
   "source": [
    "#Import the required library\n",
    "from sklearn.metrics import confusion_matrix"
   ]
  },
  {
   "cell_type": "code",
   "execution_count": 37,
   "id": "a3bb3e99-ccad-4ab0-89df-2fa20ea94ad0",
   "metadata": {},
   "outputs": [
    {
     "name": "stdout",
     "output_type": "stream",
     "text": [
      "Fetching posts from subreddit: dogs\n",
      "Starting loop 1/5\n",
      "Error occurred: name 'time' is not defined\n",
      "Fetching posts from subreddit: personalfinance\n",
      "Starting loop 1/5\n",
      "Error occurred: name 'time' is not defined\n"
     ]
    }
   ],
   "source": [
    "#Run the code fetch_post(subreddit name)\n",
    "#import time\n",
    "sub_1 = fetch_posts(subreddit_1)\n",
    "sub_2 = fetch_posts(subreddit_2)"
   ]
  },
  {
   "cell_type": "code",
   "execution_count": 38,
   "id": "d41398ff-8184-4484-8c81-6d18e0d625e8",
   "metadata": {},
   "outputs": [
    {
     "data": {
      "text/html": [
       "<div>\n",
       "<style scoped>\n",
       "    .dataframe tbody tr th:only-of-type {\n",
       "        vertical-align: middle;\n",
       "    }\n",
       "\n",
       "    .dataframe tbody tr th {\n",
       "        vertical-align: top;\n",
       "    }\n",
       "\n",
       "    .dataframe thead th {\n",
       "        text-align: right;\n",
       "    }\n",
       "</style>\n",
       "<table border=\"1\" class=\"dataframe\">\n",
       "  <thead>\n",
       "    <tr style=\"text-align: right;\">\n",
       "      <th></th>\n",
       "      <th>subreddit</th>\n",
       "      <th>title</th>\n",
       "      <th>selftext</th>\n",
       "      <th>utc</th>\n",
       "    </tr>\n",
       "  </thead>\n",
       "  <tbody>\n",
       "    <tr>\n",
       "      <th>0</th>\n",
       "      <td>dogs</td>\n",
       "      <td>How do you know that your male puppy is nearin...</td>\n",
       "      <td>Long story short, I have a 9,5 months old fema...</td>\n",
       "      <td>1.737830e+09</td>\n",
       "    </tr>\n",
       "    <tr>\n",
       "      <th>1</th>\n",
       "      <td>dogs</td>\n",
       "      <td>Pacemaker</td>\n",
       "      <td>Has anyone had success with pacemaker for thei...</td>\n",
       "      <td>1.737830e+09</td>\n",
       "    </tr>\n",
       "    <tr>\n",
       "      <th>2</th>\n",
       "      <td>dogs</td>\n",
       "      <td>Labrador hairloss is abnormal?</td>\n",
       "      <td>Would love some feedback about a recent sheddi...</td>\n",
       "      <td>1.737826e+09</td>\n",
       "    </tr>\n",
       "    <tr>\n",
       "      <th>3</th>\n",
       "      <td>dogs</td>\n",
       "      <td>Megathread: Pet Insurance</td>\n",
       "      <td>Which pet insurance is best for you? Are there...</td>\n",
       "      <td>1.737825e+09</td>\n",
       "    </tr>\n",
       "    <tr>\n",
       "      <th>4</th>\n",
       "      <td>dogs</td>\n",
       "      <td>Megathread: Why Does My Dog Do That?</td>\n",
       "      <td>Does your dog turn his head when he hears an o...</td>\n",
       "      <td>1.737824e+09</td>\n",
       "    </tr>\n",
       "  </tbody>\n",
       "</table>\n",
       "</div>"
      ],
      "text/plain": [
       "  subreddit                                              title  \\\n",
       "0      dogs  How do you know that your male puppy is nearin...   \n",
       "1      dogs                                          Pacemaker   \n",
       "2      dogs                     Labrador hairloss is abnormal?   \n",
       "3      dogs                          Megathread: Pet Insurance   \n",
       "4      dogs               Megathread: Why Does My Dog Do That?   \n",
       "\n",
       "                                            selftext           utc  \n",
       "0  Long story short, I have a 9,5 months old fema...  1.737830e+09  \n",
       "1  Has anyone had success with pacemaker for thei...  1.737830e+09  \n",
       "2  Would love some feedback about a recent sheddi...  1.737826e+09  \n",
       "3  Which pet insurance is best for you? Are there...  1.737825e+09  \n",
       "4  Does your dog turn his head when he hears an o...  1.737824e+09  "
      ]
     },
     "execution_count": 38,
     "metadata": {},
     "output_type": "execute_result"
    }
   ],
   "source": [
    "sub_1.head()"
   ]
  },
  {
   "cell_type": "code",
   "execution_count": 39,
   "id": "d15b2852-ba1c-4aff-abdf-b497f6795b81",
   "metadata": {},
   "outputs": [
    {
     "data": {
      "text/plain": [
       "(975, 4)"
      ]
     },
     "execution_count": 39,
     "metadata": {},
     "output_type": "execute_result"
    }
   ],
   "source": [
    "sub_1.shape"
   ]
  },
  {
   "cell_type": "code",
   "execution_count": 40,
   "id": "cbe75aaf-ea70-4054-a8cd-f0cd7eb6f1f2",
   "metadata": {},
   "outputs": [
    {
     "data": {
      "text/html": [
       "<div>\n",
       "<style scoped>\n",
       "    .dataframe tbody tr th:only-of-type {\n",
       "        vertical-align: middle;\n",
       "    }\n",
       "\n",
       "    .dataframe tbody tr th {\n",
       "        vertical-align: top;\n",
       "    }\n",
       "\n",
       "    .dataframe thead th {\n",
       "        text-align: right;\n",
       "    }\n",
       "</style>\n",
       "<table border=\"1\" class=\"dataframe\">\n",
       "  <thead>\n",
       "    <tr style=\"text-align: right;\">\n",
       "      <th></th>\n",
       "      <th>subreddit</th>\n",
       "      <th>title</th>\n",
       "      <th>selftext</th>\n",
       "      <th>utc</th>\n",
       "    </tr>\n",
       "  </thead>\n",
       "  <tbody>\n",
       "    <tr>\n",
       "      <th>0</th>\n",
       "      <td>personalfinance</td>\n",
       "      <td>Can I retire at this age</td>\n",
       "      <td>32M. Planning to retire at 50 once kids are mo...</td>\n",
       "      <td>1.737831e+09</td>\n",
       "    </tr>\n",
       "    <tr>\n",
       "      <th>1</th>\n",
       "      <td>personalfinance</td>\n",
       "      <td>How to improve my credit score?</td>\n",
       "      <td>I have a capital one credit card with a credit...</td>\n",
       "      <td>1.737831e+09</td>\n",
       "    </tr>\n",
       "    <tr>\n",
       "      <th>2</th>\n",
       "      <td>personalfinance</td>\n",
       "      <td>Back door Roth IRA initial steps</td>\n",
       "      <td>Been trying to figure out the back door Roth s...</td>\n",
       "      <td>1.737831e+09</td>\n",
       "    </tr>\n",
       "    <tr>\n",
       "      <th>3</th>\n",
       "      <td>personalfinance</td>\n",
       "      <td>Why aren't my IRA contributions tax deductable?!?</td>\n",
       "      <td>I make about 160k and I have a 401k. I contrib...</td>\n",
       "      <td>1.737831e+09</td>\n",
       "    </tr>\n",
       "    <tr>\n",
       "      <th>4</th>\n",
       "      <td>personalfinance</td>\n",
       "      <td>What to do with $30,000 for three years?</td>\n",
       "      <td>Soon I will be receiving a bonus from work. Af...</td>\n",
       "      <td>1.737831e+09</td>\n",
       "    </tr>\n",
       "  </tbody>\n",
       "</table>\n",
       "</div>"
      ],
      "text/plain": [
       "         subreddit                                              title  \\\n",
       "0  personalfinance                           Can I retire at this age   \n",
       "1  personalfinance                    How to improve my credit score?   \n",
       "2  personalfinance                   Back door Roth IRA initial steps   \n",
       "3  personalfinance  Why aren't my IRA contributions tax deductable?!?   \n",
       "4  personalfinance           What to do with $30,000 for three years?   \n",
       "\n",
       "                                            selftext           utc  \n",
       "0  32M. Planning to retire at 50 once kids are mo...  1.737831e+09  \n",
       "1  I have a capital one credit card with a credit...  1.737831e+09  \n",
       "2  Been trying to figure out the back door Roth s...  1.737831e+09  \n",
       "3  I make about 160k and I have a 401k. I contrib...  1.737831e+09  \n",
       "4  Soon I will be receiving a bonus from work. Af...  1.737831e+09  "
      ]
     },
     "execution_count": 40,
     "metadata": {},
     "output_type": "execute_result"
    }
   ],
   "source": [
    "sub_2.head()"
   ]
  },
  {
   "cell_type": "code",
   "execution_count": 41,
   "id": "cb3cf9c9-ae7a-464b-9af0-72f7c657c6af",
   "metadata": {},
   "outputs": [
    {
     "data": {
      "text/plain": [
       "(986, 4)"
      ]
     },
     "execution_count": 41,
     "metadata": {},
     "output_type": "execute_result"
    }
   ],
   "source": [
    "sub_2.shape"
   ]
  },
  {
   "cell_type": "code",
   "execution_count": 42,
   "id": "384e7f72-1fb1-45e7-8659-ea2daa134885",
   "metadata": {},
   "outputs": [],
   "source": [
    "# Assign labels for the subreddit column\n",
    "sub_1['subreddit'] = 1 #Label 'dogs' as 1\n",
    "sub_2['subreddit'] = 0 #Label 'personalfinance' as 0"
   ]
  },
  {
   "cell_type": "code",
   "execution_count": 43,
   "id": "b623f3b9-e2a4-4e4e-b816-5d877f68bcf1",
   "metadata": {},
   "outputs": [
    {
     "data": {
      "text/html": [
       "<div>\n",
       "<style scoped>\n",
       "    .dataframe tbody tr th:only-of-type {\n",
       "        vertical-align: middle;\n",
       "    }\n",
       "\n",
       "    .dataframe tbody tr th {\n",
       "        vertical-align: top;\n",
       "    }\n",
       "\n",
       "    .dataframe thead th {\n",
       "        text-align: right;\n",
       "    }\n",
       "</style>\n",
       "<table border=\"1\" class=\"dataframe\">\n",
       "  <thead>\n",
       "    <tr style=\"text-align: right;\">\n",
       "      <th></th>\n",
       "      <th>subreddit</th>\n",
       "      <th>title</th>\n",
       "      <th>selftext</th>\n",
       "      <th>utc</th>\n",
       "    </tr>\n",
       "  </thead>\n",
       "  <tbody>\n",
       "    <tr>\n",
       "      <th>0</th>\n",
       "      <td>1</td>\n",
       "      <td>How do you know that your male puppy is nearin...</td>\n",
       "      <td>Long story short, I have a 9,5 months old fema...</td>\n",
       "      <td>1.737830e+09</td>\n",
       "    </tr>\n",
       "    <tr>\n",
       "      <th>1</th>\n",
       "      <td>1</td>\n",
       "      <td>Pacemaker</td>\n",
       "      <td>Has anyone had success with pacemaker for thei...</td>\n",
       "      <td>1.737830e+09</td>\n",
       "    </tr>\n",
       "    <tr>\n",
       "      <th>2</th>\n",
       "      <td>1</td>\n",
       "      <td>Labrador hairloss is abnormal?</td>\n",
       "      <td>Would love some feedback about a recent sheddi...</td>\n",
       "      <td>1.737826e+09</td>\n",
       "    </tr>\n",
       "    <tr>\n",
       "      <th>3</th>\n",
       "      <td>1</td>\n",
       "      <td>Megathread: Pet Insurance</td>\n",
       "      <td>Which pet insurance is best for you? Are there...</td>\n",
       "      <td>1.737825e+09</td>\n",
       "    </tr>\n",
       "    <tr>\n",
       "      <th>4</th>\n",
       "      <td>1</td>\n",
       "      <td>Megathread: Why Does My Dog Do That?</td>\n",
       "      <td>Does your dog turn his head when he hears an o...</td>\n",
       "      <td>1.737824e+09</td>\n",
       "    </tr>\n",
       "  </tbody>\n",
       "</table>\n",
       "</div>"
      ],
      "text/plain": [
       "   subreddit                                              title  \\\n",
       "0          1  How do you know that your male puppy is nearin...   \n",
       "1          1                                          Pacemaker   \n",
       "2          1                     Labrador hairloss is abnormal?   \n",
       "3          1                          Megathread: Pet Insurance   \n",
       "4          1               Megathread: Why Does My Dog Do That?   \n",
       "\n",
       "                                            selftext           utc  \n",
       "0  Long story short, I have a 9,5 months old fema...  1.737830e+09  \n",
       "1  Has anyone had success with pacemaker for thei...  1.737830e+09  \n",
       "2  Would love some feedback about a recent sheddi...  1.737826e+09  \n",
       "3  Which pet insurance is best for you? Are there...  1.737825e+09  \n",
       "4  Does your dog turn his head when he hears an o...  1.737824e+09  "
      ]
     },
     "execution_count": 43,
     "metadata": {},
     "output_type": "execute_result"
    }
   ],
   "source": [
    "sub_1.head()"
   ]
  },
  {
   "cell_type": "code",
   "execution_count": 44,
   "id": "816b4ad6-41d6-4303-a860-fab48c6b685b",
   "metadata": {},
   "outputs": [],
   "source": [
    "test_df = pd.concat([sub_1, sub_2], ignore_index=True)\n",
    "test_df = test_df.sample(frac=1, random_state=42).reset_index(drop=True)"
   ]
  },
  {
   "cell_type": "code",
   "execution_count": 45,
   "id": "ff89b80b-b9b0-4790-9ff0-f1a5ce57dab5",
   "metadata": {},
   "outputs": [],
   "source": [
    "test_df['text'] = test_df['title'] + ' ' + test_df['selftext']"
   ]
  },
  {
   "cell_type": "code",
   "execution_count": 46,
   "id": "911f5d20-ef9f-467e-8865-d2ec7369ec5e",
   "metadata": {},
   "outputs": [],
   "source": [
    "test_df['text'] = (test_df['text'].apply(preprocess))"
   ]
  },
  {
   "cell_type": "code",
   "execution_count": 47,
   "id": "e8968c75-8371-4064-8f3f-5d8d0461b401",
   "metadata": {},
   "outputs": [],
   "source": [
    "#Vectorize the text for model entry\n",
    "new_df_vect = vectorizer.transform(test_df['text'])"
   ]
  },
  {
   "cell_type": "code",
   "execution_count": 48,
   "id": "e177b253-2e29-416b-8ea1-21cbba84e23e",
   "metadata": {},
   "outputs": [],
   "source": [
    "#Test the data on unseen data\n",
    "lr_model_test = model_lr.predict(new_df_vect)\n",
    "rf_model_test = model_rf.predict(new_df_vect)"
   ]
  },
  {
   "cell_type": "code",
   "execution_count": 49,
   "id": "570bfe51-ff45-4188-ac2f-247067dac22d",
   "metadata": {},
   "outputs": [],
   "source": [
    "#Create a column to see what the actual subreddit was vs the preditcions of my models\n",
    "test_df['logreg_predz'] = lr_model_test\n",
    "test_df['rf_predz'] = rf_model_test"
   ]
  },
  {
   "cell_type": "code",
   "execution_count": 50,
   "id": "1f643d3f-3d75-4833-aa48-1710c221b875",
   "metadata": {},
   "outputs": [
    {
     "data": {
      "text/html": [
       "<div>\n",
       "<style scoped>\n",
       "    .dataframe tbody tr th:only-of-type {\n",
       "        vertical-align: middle;\n",
       "    }\n",
       "\n",
       "    .dataframe tbody tr th {\n",
       "        vertical-align: top;\n",
       "    }\n",
       "\n",
       "    .dataframe thead th {\n",
       "        text-align: right;\n",
       "    }\n",
       "</style>\n",
       "<table border=\"1\" class=\"dataframe\">\n",
       "  <thead>\n",
       "    <tr style=\"text-align: right;\">\n",
       "      <th></th>\n",
       "      <th>subreddit</th>\n",
       "      <th>title</th>\n",
       "      <th>selftext</th>\n",
       "      <th>utc</th>\n",
       "      <th>text</th>\n",
       "      <th>logreg_predz</th>\n",
       "      <th>rf_predz</th>\n",
       "    </tr>\n",
       "  </thead>\n",
       "  <tbody>\n",
       "    <tr>\n",
       "      <th>0</th>\n",
       "      <td>0</td>\n",
       "      <td>Former poor kid needing advice</td>\n",
       "      <td>I'm in line for a job that could take me from ...</td>\n",
       "      <td>1.737770e+09</td>\n",
       "      <td>former poor kid needing advice line job could ...</td>\n",
       "      <td>0</td>\n",
       "      <td>0</td>\n",
       "    </tr>\n",
       "    <tr>\n",
       "      <th>1</th>\n",
       "      <td>1</td>\n",
       "      <td>Smelly high value treats that don’t contain po...</td>\n",
       "      <td>Hi all! I’m hoping you can help me come up wit...</td>\n",
       "      <td>1.736639e+09</td>\n",
       "      <td>smelly high value treat contain poultry hi hop...</td>\n",
       "      <td>1</td>\n",
       "      <td>1</td>\n",
       "    </tr>\n",
       "    <tr>\n",
       "      <th>2</th>\n",
       "      <td>1</td>\n",
       "      <td>Mental activity for dogs when home alone?</td>\n",
       "      <td>What does your dog do when they’re alone? Any ...</td>\n",
       "      <td>1.736860e+09</td>\n",
       "      <td>mental activity dog home alone dog alone fun p...</td>\n",
       "      <td>1</td>\n",
       "      <td>1</td>\n",
       "    </tr>\n",
       "    <tr>\n",
       "      <th>3</th>\n",
       "      <td>1</td>\n",
       "      <td>How heavy should the owner be compared to the ...</td>\n",
       "      <td>I don’t think I’ve seen this topic be discuss...</td>\n",
       "      <td>1.736969e+09</td>\n",
       "      <td>heavy owner compared dog think seen topic disc...</td>\n",
       "      <td>1</td>\n",
       "      <td>1</td>\n",
       "    </tr>\n",
       "    <tr>\n",
       "      <th>4</th>\n",
       "      <td>0</td>\n",
       "      <td>What should I do with my relocation bonus?</td>\n",
       "      <td>I’m 21 and just got a new job and moved to a n...</td>\n",
       "      <td>1.737637e+09</td>\n",
       "      <td>relocation bonus got new job moved new city go...</td>\n",
       "      <td>0</td>\n",
       "      <td>0</td>\n",
       "    </tr>\n",
       "  </tbody>\n",
       "</table>\n",
       "</div>"
      ],
      "text/plain": [
       "   subreddit                                              title  \\\n",
       "0          0                     Former poor kid needing advice   \n",
       "1          1  Smelly high value treats that don’t contain po...   \n",
       "2          1          Mental activity for dogs when home alone?   \n",
       "3          1  How heavy should the owner be compared to the ...   \n",
       "4          0         What should I do with my relocation bonus?   \n",
       "\n",
       "                                            selftext           utc  \\\n",
       "0  I'm in line for a job that could take me from ...  1.737770e+09   \n",
       "1  Hi all! I’m hoping you can help me come up wit...  1.736639e+09   \n",
       "2  What does your dog do when they’re alone? Any ...  1.736860e+09   \n",
       "3   I don’t think I’ve seen this topic be discuss...  1.736969e+09   \n",
       "4  I’m 21 and just got a new job and moved to a n...  1.737637e+09   \n",
       "\n",
       "                                                text  logreg_predz  rf_predz  \n",
       "0  former poor kid needing advice line job could ...             0         0  \n",
       "1  smelly high value treat contain poultry hi hop...             1         1  \n",
       "2  mental activity dog home alone dog alone fun p...             1         1  \n",
       "3  heavy owner compared dog think seen topic disc...             1         1  \n",
       "4  relocation bonus got new job moved new city go...             0         0  "
      ]
     },
     "execution_count": 50,
     "metadata": {},
     "output_type": "execute_result"
    }
   ],
   "source": [
    "test_df.head()"
   ]
  },
  {
   "cell_type": "code",
   "execution_count": 51,
   "id": "4b4ce90f-b3f9-4c8a-bae3-3083eefbf8cc",
   "metadata": {
    "scrolled": true
   },
   "outputs": [
    {
     "name": "stdout",
     "output_type": "stream",
     "text": [
      "Logistics Regression Accuracy on Imported Data: 99.85%\n"
     ]
    }
   ],
   "source": [
    "#Eval the LogisticRegression model based on accuracy for the new data it saw\n",
    "prediction = model_lr.predict(new_df_vect)\n",
    "accu = accuracy_score(test_df['subreddit'], prediction)\n",
    "print(f'Logistics Regression Accuracy on Imported Data: {accu:.2%}')"
   ]
  },
  {
   "cell_type": "code",
   "execution_count": 52,
   "id": "19bc0a19-876a-4e99-b0c3-b18b81ad6d29",
   "metadata": {},
   "outputs": [
    {
     "name": "stdout",
     "output_type": "stream",
     "text": [
      "Random Forest Accuracy on Imported Data: 96.58%\n"
     ]
    }
   ],
   "source": [
    "#Eval the RandomForest model based on accuracy for the new data it saw\n",
    "predictionz = model_rf.predict(new_df_vect)\n",
    "acc = accuracy_score(test_df['subreddit'], predictionz)\n",
    "print(f'Random Forest Accuracy on Imported Data: {acc:.2%}')"
   ]
  },
  {
   "cell_type": "markdown",
   "id": "63d08b68-8c31-4ed2-91d2-9f568a4ea3ee",
   "metadata": {},
   "source": [
    "### Confusion Matrix\n",
    "- Give the predictions a variable\n",
    "- Assign the ConfusionMatrix a variable\n",
    "- Re-Introduce the key for the binary classifications in the data\n",
    "- Plot the ConfusionMatrix"
   ]
  },
  {
   "cell_type": "code",
   "execution_count": 53,
   "id": "30fc1bfb-8b32-4ed3-b1c7-4d22dd425e4f",
   "metadata": {},
   "outputs": [],
   "source": [
    "#Give the predictions a variable\n",
    "log_reg_pred = model_lr.predict(X_test_vect)\n",
    "rf_pred = model_rf.predict(X_test_vect)"
   ]
  },
  {
   "cell_type": "code",
   "execution_count": 54,
   "id": "f144a856-1069-42c8-b1b0-2921d27e922d",
   "metadata": {},
   "outputs": [],
   "source": [
    "#Assign a variable to the ConfusionMatrix\n",
    "log_cm = confusion_matrix(y_test, log_reg_pred)\n",
    "rf_cm = confusion_matrix(y_test, rf_pred)"
   ]
  },
  {
   "cell_type": "markdown",
   "id": "ea51d0a3-62e2-4f30-aa3c-e24e0d52f9b7",
   "metadata": {},
   "source": [
    "#### Re-introduce what each binary value represents\n",
    "\n",
    "| Value | Subreddit              |\n",
    "|-------|------------------------|\n",
    "| 1     | dogs_subreddit         |\n",
    "| 0     | personalfinance_subreddit |"
   ]
  },
  {
   "cell_type": "code",
   "execution_count": 55,
   "id": "5757df48-c318-463a-aca4-8b24a5b09ee5",
   "metadata": {},
   "outputs": [
    {
     "data": {
      "image/png": "[encoded data removed]",
      "text/plain": [
       "<Figure size 400x300 with 2 Axes>"
      ]
     },
     "metadata": {},
     "output_type": "display_data"
    }
   ],
   "source": [
    "#Plot the confusion matrix\n",
    "def plot_confusion_matrix(cm, title):\n",
    "    plt.figure(figsize=(4, 3))\n",
    "    sns.heatmap(cm, annot=True, fmt='d', cmap='viridis', xticklabels=['subreddit[0]' , 'subreddit[1]'], yticklabels=['subreddit[0]' , 'subreddit[1]'])\n",
    "    plt.title('Actual vs Predicted')\n",
    "    plt.ylabel('Actual Label')\n",
    "    plt.xlabel('Predicted Label')\n",
    "    plt.show()\n",
    "\n",
    "#Matrix for LogisticRegression Model\n",
    "plot_confusion_matrix(log_cm, 'Logistic Regression CM') \n"
   ]
  },
  {
   "cell_type": "code",
   "execution_count": 56,
   "id": "78ee6d18-92f1-40e2-a5ec-ad16fa3c6bde",
   "metadata": {},
   "outputs": [
    {
     "data": {
      "image/png": "[encoded data removed]",
      "text/plain": [
       "<Figure size 400x300 with 2 Axes>"
      ]
     },
     "metadata": {},
     "output_type": "display_data"
    }
   ],
   "source": [
    "#Matrix for RandomForest Model\n",
    "plot_confusion_matrix(rf_cm, 'Random Forest CM')"
   ]
  },
  {
   "cell_type": "markdown",
   "id": "68386a23-1392-48f2-976b-88befca53034",
   "metadata": {},
   "source": [
    "### Conclusion & Recommendation\n",
    "- Reintroduce the problem statement\n",
    "- Identify If we were able to complete the problem statement\n",
    "- Give suggestions on which model I would recommend if they are suitble for production"
   ]
  },
  {
   "cell_type": "markdown",
   "id": "78494a8d-da23-4ead-98a4-609ea269b1ed",
   "metadata": {},
   "source": [
    "Was I able to answer my problem statement?\n",
    "- Yes; I was successfully able to create a high performing model that was able to take in new data and predict the out come on a very high level. Below you can see a visula represntation of how both of my created models performed on a set of data that I split and on data that I pulled in. (You can rerun this notebook and the tested data that is pulled in will always change and the scores remain high well into the 96% and higher)"
   ]
  },
  {
   "cell_type": "markdown",
   "id": "b66dffde-e077-43de-8061-925a21cfb421",
   "metadata": {},
   "source": [
    "| Dataset                 | Logistic Regression | Random Forest |\n",
    "|-------------------------|---------------------|---------------|\n",
    "| Test Set Accuracy       | LG Accuracy 99.83%               | RF Accuracy 98.01%          |\n",
    "| Unseen Test Set Accuracy       | LG Accuracy ~99%               | RF Accuracy ~96%          |"
   ]
  },
  {
   "cell_type": "markdown",
   "id": "dd859cb2-1ef3-4061-8952-0c3eab93195c",
   "metadata": {},
   "source": [
    "The model I would advice to be utilized is the Logistic Regression model because the task is simple and since it is a classification model you can train any two subreddits to filter into the proper channel with the model."
   ]
  }
 ],
 "metadata": {
  "kernelspec": {
   "display_name": "Python 3 (ipykernel)",
   "language": "python",
   "name": "python3"
  },
  "language_info": {
   "codemirror_mode": {
    "name": "ipython",
    "version": 3
   },
   "file_extension": ".py",
   "mimetype": "text/x-python",
   "name": "python",
   "nbconvert_exporter": "python",
   "pygments_lexer": "ipython3",
   "version": "3.12.4"
  },
  "panel-cell-order": [
   "88e1b4b7-ee2d-4e78-a23b-fe63b6bf0f44"
  ]
 },
 "nbformat": 4,
 "nbformat_minor": 5
}
